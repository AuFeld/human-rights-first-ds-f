{
 "cells": [
  {
   "cell_type": "code",
   "execution_count": 1,
   "metadata": {},
   "outputs": [
    {
     "name": "stdout",
     "output_type": "stream",
     "text": [
      "Johann Tue Oct 06 2020 \n",
      "\n",
      "CPython 3.8.5\n",
      "IPython 7.18.1\n",
      "\n",
      "numpy 1.19.2\n",
      "scipy 1.5.2\n",
      "sklearn 0.23.2\n",
      "pandas 1.1.0\n"
     ]
    }
   ],
   "source": [
    "%load_ext autoreload\n",
    "%autoreload 2\n",
    "\n",
    "%load_ext watermark\n",
    "%watermark -a \"Johann\" -v -n -p numpy,scipy,sklearn,pandas"
   ]
  },
  {
   "cell_type": "code",
   "execution_count": 5,
   "metadata": {},
   "outputs": [
    {
     "data": {
      "text/html": [
       "<div>\n",
       "<style scoped>\n",
       "    .dataframe tbody tr th:only-of-type {\n",
       "        vertical-align: middle;\n",
       "    }\n",
       "\n",
       "    .dataframe tbody tr th {\n",
       "        vertical-align: top;\n",
       "    }\n",
       "\n",
       "    .dataframe thead th {\n",
       "        text-align: right;\n",
       "    }\n",
       "</style>\n",
       "<table border=\"1\" class=\"dataframe\">\n",
       "  <thead>\n",
       "    <tr style=\"text-align: right;\">\n",
       "      <th></th>\n",
       "      <th>file_name</th>\n",
       "      <th>created</th>\n",
       "    </tr>\n",
       "  </thead>\n",
       "  <tbody>\n",
       "    <tr>\n",
       "      <th>0</th>\n",
       "      <td>Austin.csv</td>\n",
       "      <td>Tue Oct  6 17:58:12 2020</td>\n",
       "    </tr>\n",
       "    <tr>\n",
       "      <th>1</th>\n",
       "      <td>Lincoln.csv</td>\n",
       "      <td>Tue Oct  6 20:21:52 2020</td>\n",
       "    </tr>\n",
       "    <tr>\n",
       "      <th>2</th>\n",
       "      <td>Cincinnati .csv</td>\n",
       "      <td>Tue Oct  6 20:21:52 2020</td>\n",
       "    </tr>\n",
       "    <tr>\n",
       "      <th>3</th>\n",
       "      <td>.DS_Store</td>\n",
       "      <td>Tue Oct  6 20:22:40 2020</td>\n",
       "    </tr>\n",
       "    <tr>\n",
       "      <th>4</th>\n",
       "      <td>New_Orleans.csv</td>\n",
       "      <td>Tue Oct  6 20:21:52 2020</td>\n",
       "    </tr>\n",
       "    <tr>\n",
       "      <th>5</th>\n",
       "      <td>South_bend.csv</td>\n",
       "      <td>Tue Oct  6 20:21:52 2020</td>\n",
       "    </tr>\n",
       "    <tr>\n",
       "      <th>6</th>\n",
       "      <td>README.md</td>\n",
       "      <td>Tue Oct  6 20:27:00 2020</td>\n",
       "    </tr>\n",
       "    <tr>\n",
       "      <th>7</th>\n",
       "      <td>North_bergen.xls</td>\n",
       "      <td>Tue Oct  6 20:21:52 2020</td>\n",
       "    </tr>\n",
       "    <tr>\n",
       "      <th>8</th>\n",
       "      <td>Orlando.csv</td>\n",
       "      <td>Tue Oct  6 20:21:52 2020</td>\n",
       "    </tr>\n",
       "    <tr>\n",
       "      <th>9</th>\n",
       "      <td>.ipynb_checkpoints</td>\n",
       "      <td>Tue Oct  6 22:37:36 2020</td>\n",
       "    </tr>\n",
       "    <tr>\n",
       "      <th>10</th>\n",
       "      <td>Seattle.csv</td>\n",
       "      <td>Tue Oct  6 20:21:52 2020</td>\n",
       "    </tr>\n",
       "    <tr>\n",
       "      <th>11</th>\n",
       "      <td>Baltimore.csv</td>\n",
       "      <td>Tue Oct  6 17:58:17 2020</td>\n",
       "    </tr>\n",
       "  </tbody>\n",
       "</table>\n",
       "</div>"
      ],
      "text/plain": [
       "             file_name                   created\n",
       "0           Austin.csv  Tue Oct  6 17:58:12 2020\n",
       "1          Lincoln.csv  Tue Oct  6 20:21:52 2020\n",
       "2      Cincinnati .csv  Tue Oct  6 20:21:52 2020\n",
       "3            .DS_Store  Tue Oct  6 20:22:40 2020\n",
       "4      New_Orleans.csv  Tue Oct  6 20:21:52 2020\n",
       "5       South_bend.csv  Tue Oct  6 20:21:52 2020\n",
       "6            README.md  Tue Oct  6 20:27:00 2020\n",
       "7     North_bergen.xls  Tue Oct  6 20:21:52 2020\n",
       "8          Orlando.csv  Tue Oct  6 20:21:52 2020\n",
       "9   .ipynb_checkpoints  Tue Oct  6 22:37:36 2020\n",
       "10         Seattle.csv  Tue Oct  6 20:21:52 2020\n",
       "11       Baltimore.csv  Tue Oct  6 17:58:17 2020"
      ]
     },
     "execution_count": 5,
     "metadata": {},
     "output_type": "execute_result"
    }
   ],
   "source": [
    "import os\n",
    "import time\n",
    "import pandas as pd\n",
    "from pathlib import Path\n",
    "from pyprojroot import here\n",
    "\n",
    "p = Path(here('./data/raw'))\n",
    "all_files = []\n",
    "for i in p.glob('*.*'):\n",
    "    all_files.append((i.name, time.ctime(i.stat().st_ctime)))\n",
    "\n",
    "columns = [\"file_name\", \"created\"]\n",
    "df = pd.DataFrame.from_records(all_files, columns=columns)\n",
    "\n",
    "df.head(20)"
   ]
  },
  {
   "cell_type": "code",
   "execution_count": null,
   "metadata": {},
   "outputs": [],
   "source": []
  }
 ],
 "metadata": {
  "kernelspec": {
   "display_name": "HRF",
   "language": "python",
   "name": "hrf"
  },
  "language_info": {
   "codemirror_mode": {
    "name": "ipython",
    "version": 3
   },
   "file_extension": ".py",
   "mimetype": "text/x-python",
   "name": "python",
   "nbconvert_exporter": "python",
   "pygments_lexer": "ipython3",
   "version": "3.8.5"
  }
 },
 "nbformat": 4,
 "nbformat_minor": 4
}
