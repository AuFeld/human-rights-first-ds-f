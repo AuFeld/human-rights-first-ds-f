{
 "cells": [
  {
   "cell_type": "code",
   "execution_count": null,
   "metadata": {},
   "outputs": [],
   "source": [
    "%load_ext autoreload\n",
    "%autoreload 2\n",
    "\n",
    "%load_ext watermark\n",
    "%watermark -a \"Johann\" -v -n -p numpy,scipy,sklearn,pandas"
   ]
  },
  {
   "cell_type": "code",
   "execution_count": null,
   "metadata": {},
   "outputs": [],
   "source": [
    "import os\n",
    "import time\n",
    "import pandas as pd\n",
    "from pathlib import Path\n",
    "from pyprojroot import here\n",
    "import category_encoders as ce\n",
    "\n",
    "data_path = Path(here('./data/raw'))\n",
    "all_files = []\n",
    "suffixes = '*.csv'\n",
    "\n",
    "for files in data_path.glob(suffixes):\n",
    "    all_files.append((files.name, files.suffix, time.ctime(files.stat().st_ctime)))\n",
    "        \n",
    "columns = [\"File_Name\", \"Type\", \"Created\"]\n",
    "files_df = pd.DataFrame.from_records(all_files, columns=columns)\n",
    "\n",
    "files_df.head(20)"
   ]
  },
  {
   "cell_type": "markdown",
   "metadata": {},
   "source": [
    "# Austin Police Department"
   ]
  },
  {
   "cell_type": "code",
   "execution_count": null,
   "metadata": {},
   "outputs": [],
   "source": [
    "austin = pd.read_csv(data_path / 'Austin.csv')\n",
    "\n",
    "print(austin.info())\n",
    "austin.head()"
   ]
  },
  {
   "cell_type": "code",
   "execution_count": null,
   "metadata": {},
   "outputs": [],
   "source": [
    "austin['State'] = 'TX'\n",
    "austin['City'] = 'Austin'\n",
    "austin.head()\n",
    "\n",
    "austin.to_csv(data_path / 'Austin_copy.csv')"
   ]
  },
  {
   "cell_type": "code",
   "execution_count": null,
   "metadata": {},
   "outputs": [],
   "source": [
    "# CE\n",
    "\n",
    "encoder= ce.OrdinalEncoder(cols=['Degree'],return_df=True,\n",
    "                           mapping=[{'col':'Degree',\n",
    "                                    'mapping':{'None':0,'High school':1,'Diploma':2,'Bachelors':3,'Masters':4,'phd':5}}])"
   ]
  },
  {
   "cell_type": "code",
   "execution_count": null,
   "metadata": {},
   "outputs": [],
   "source": [
    "encoder = ce.OrdinalEncoder(cols=[' Weapon Used 1'], return_df=True, mapping=[{'col':' Weapon Used 1',\n",
    "                                                                              'mapping':{'WEAPONLESS (PRESSURE POINTS/KICKS/HAND)':0,\n",
    "                                                                                        'CED - PRONGS-ENTER # SHOTS':1,\n",
    "                                                                                        'CHEMICAL AGENT - O C SPRAY':2,\n",
    "                                                                                        'CED - DRIVE STUN-ENTER # SHOTS':3,\n",
    "                                                                                        'CED - PRONGS MISSED-ENTER # SHOTS':4,\n",
    "                                                                                        'OTHER':5,\n",
    "                                                                                        'IMPACT WEAPON - BATON': 6,\n",
    "                                                                                        'CANINE - BITE': 7,\n",
    "                                                                                        'FIREARM - HANDGUN-ENTER # SHOTS': 8,\n",
    "                                                                                        'IMPACT MUNITION/RUBBER RND-ENTER # SHOTS': 9,\n",
    "                                                                                        'IMPACT MUNITION/BEANBAG RND-ENTER # SHOTS': 10,\n",
    "                                                                                        'FIREARM - RIFLE-ENTER # SHOTS': 11}}])"
   ]
  },
  {
   "cell_type": "code",
   "execution_count": null,
   "metadata": {},
   "outputs": [],
   "source": [
    "austin[' Date Occurred'] = pd.to_datetime(aust)"
   ]
  },
  {
   "cell_type": "code",
   "execution_count": null,
   "metadata": {},
   "outputs": [],
   "source": [
    "df_new = encoder.fit_transform(austin)"
   ]
  },
  {
   "cell_type": "code",
   "execution_count": null,
   "metadata": {},
   "outputs": [],
   "source": [
    "df_new.head(20)"
   ]
  },
  {
   "cell_type": "code",
   "execution_count": null,
   "metadata": {},
   "outputs": [],
   "source": [
    "pd.options.display.max_rows = 500\n",
    "pd.options.display.max_columns = 500"
   ]
  },
  {
   "cell_type": "markdown",
   "metadata": {},
   "source": [
    "# Baltimore Police Department"
   ]
  },
  {
   "cell_type": "code",
   "execution_count": null,
   "metadata": {},
   "outputs": [],
   "source": [
    "baltimore = pd.read_csv('https://www.projectcomport.org/department/4/uof.csv?')"
   ]
  },
  {
   "cell_type": "code",
   "execution_count": null,
   "metadata": {},
   "outputs": [],
   "source": [
    "baltimore = pd.read_csv(data_path / 'Baltimore.csv')\n",
    "\n",
    "print(baltimore.info())\n",
    "baltimore.head()"
   ]
  },
  {
   "cell_type": "code",
   "execution_count": null,
   "metadata": {},
   "outputs": [],
   "source": [
    "baltimore['State'] = 'MD'\n",
    "baltimore['City'] = 'Baltimore'\n",
    "baltimore.head()\n",
    "\n",
    "baltimore.to_csv(data_path / 'Baltimore_copy.csv')"
   ]
  },
  {
   "cell_type": "markdown",
   "metadata": {},
   "source": [
    "# Cincinnati PD"
   ]
  },
  {
   "cell_type": "code",
   "execution_count": null,
   "metadata": {},
   "outputs": [],
   "source": [
    "cincinnati= pd.read_csv(data_path / 'Cincinnati.csv')\n",
    "\n",
    "print(cincinnati.info())\n",
    "cincinnati.head()"
   ]
  },
  {
   "cell_type": "code",
   "execution_count": null,
   "metadata": {},
   "outputs": [],
   "source": [
    "cincinnati['State'] = 'OH'\n",
    "cincinnati['City'] = 'Cincinnati'\n",
    "cincinnati.head()\n",
    "\n",
    "cincinnati.to_csv(data_path / 'Cincinnati_copy.csv')"
   ]
  },
  {
   "cell_type": "markdown",
   "metadata": {},
   "source": [
    "# Lincoln PD"
   ]
  },
  {
   "cell_type": "code",
   "execution_count": null,
   "metadata": {},
   "outputs": [],
   "source": [
    "lincoln = pd.read_csv(data_path / 'Lincoln.csv')\n",
    "\n",
    "print(lincoln.info())\n",
    "lincoln.head()"
   ]
  },
  {
   "cell_type": "code",
   "execution_count": null,
   "metadata": {},
   "outputs": [],
   "source": [
    "lincoln['State'] = 'NE'\n",
    "lincoln['City'] = 'Lincoln'\n",
    "lincoln.head()\n",
    "\n",
    "lincoln.to_csv(data_path / 'Lincoln_copy.csv')"
   ]
  },
  {
   "cell_type": "markdown",
   "metadata": {},
   "source": [
    "# New Orleans PD"
   ]
  },
  {
   "cell_type": "code",
   "execution_count": null,
   "metadata": {},
   "outputs": [],
   "source": [
    "new_orleans = pd.read_csv(data_path / 'New_orleans.csv')\n",
    "\n",
    "print(new_orleans.info())\n",
    "new_orleans.head()"
   ]
  },
  {
   "cell_type": "code",
   "execution_count": null,
   "metadata": {},
   "outputs": [],
   "source": [
    "new_orleans['State'] = 'LA'\n",
    "new_orleans['City'] = 'New Orleans'\n",
    "new_orleans.head()\n",
    "\n",
    "new_orleans.to_csv(data_path / 'New_Orleans_copy.csv')"
   ]
  },
  {
   "cell_type": "markdown",
   "metadata": {},
   "source": [
    "# Orlando PD"
   ]
  },
  {
   "cell_type": "code",
   "execution_count": null,
   "metadata": {},
   "outputs": [],
   "source": [
    "orlando = pd.read_csv(data_path / 'Orlando.csv')\n",
    "\n",
    "print(orlando.info())\n",
    "orlando.head()"
   ]
  },
  {
   "cell_type": "code",
   "execution_count": null,
   "metadata": {},
   "outputs": [],
   "source": [
    "orlando['State'] = 'FL'\n",
    "orlando['City'] = 'Orlando'\n",
    "orlando.head()\n",
    "\n",
    "orlando.to_csv(data_path / 'Orlando_copy.csv')"
   ]
  },
  {
   "cell_type": "markdown",
   "metadata": {},
   "source": [
    "# Seattle"
   ]
  },
  {
   "cell_type": "code",
   "execution_count": null,
   "metadata": {},
   "outputs": [],
   "source": [
    "seattle = pd.read_csv(data_path / 'Seattle.csv')\n",
    "\n",
    "print(seattle.info())\n",
    "seattle.head()"
   ]
  },
  {
   "cell_type": "code",
   "execution_count": null,
   "metadata": {},
   "outputs": [],
   "source": [
    "seattle['State'] = 'WA'\n",
    "seattle['City'] = 'Seattle'\n",
    "seattle.head()\n",
    "\n",
    "seattle.to_csv(data_path / 'Seattle_copy.csv')"
   ]
  },
  {
   "cell_type": "markdown",
   "metadata": {},
   "source": [
    "# South Bend"
   ]
  },
  {
   "cell_type": "code",
   "execution_count": null,
   "metadata": {},
   "outputs": [],
   "source": [
    "south_bend = pd.read_csv(data_path / 'South_bend.csv')\n",
    "\n",
    "print(south_bend.info())\n",
    "south_bend.head()"
   ]
  },
  {
   "cell_type": "code",
   "execution_count": null,
   "metadata": {},
   "outputs": [],
   "source": [
    "south_bend['State'] = 'IN'\n",
    "south_bend['City'] = 'South Bend'\n",
    "south_bend.head()\n",
    "\n",
    "south_bend.to_csv(data_path / 'South_bend_copy.csv')"
   ]
  },
  {
   "cell_type": "markdown",
   "metadata": {},
   "source": [
    "# Indianapolis"
   ]
  },
  {
   "cell_type": "code",
   "execution_count": null,
   "metadata": {},
   "outputs": [],
   "source": [
    "# Indianapolis Metropolitan Police Department\n",
    "# https://www.projectcomport.org/department/IMPD/schema/useofforce/\n",
    "\n",
    "indianapolis = pd.read_csv('https://www.projectcomport.org/department/1/uof.csv?')\n",
    "indianapolis.to_csv(data_path / 'Indianapolis.csv')\n",
    "\n",
    "print(indianapolis.info())\n",
    "indianapolis.head()"
   ]
  },
  {
   "cell_type": "code",
   "execution_count": null,
   "metadata": {},
   "outputs": [],
   "source": [
    "indianapolis['State'] = 'IN'\n",
    "indianapolis['City'] = 'Indianpolis'\n",
    "indianapolis.head()\n",
    "\n",
    "indianapolis.to_csv(data_path / 'Indianapolis_copy.csv')"
   ]
  },
  {
   "cell_type": "markdown",
   "metadata": {},
   "source": [
    "# Portland"
   ]
  },
  {
   "cell_type": "code",
   "execution_count": null,
   "metadata": {},
   "outputs": [],
   "source": [
    "# Portland \n",
    "# https://public.tableau.com/views/PPBOpenDataDownloads/UseOfForce-All.csv?:showVizHome=no\n",
    "\n",
    "portland = pd.read_csv('https://public.tableau.com/views/PPBOpenDataDownloads/UseOfForce-All.csv?:showVizHome=no')\n",
    "portland.to_csv(data_path / 'Portland.csv')"
   ]
  },
  {
   "cell_type": "code",
   "execution_count": null,
   "metadata": {},
   "outputs": [],
   "source": [
    "portland['State'] = 'OR'\n",
    "portland['City'] = 'Portland'\n",
    "portland.head()\n",
    "\n",
    "portland.to_csv(data_path / 'Portland_copy.csv')"
   ]
  },
  {
   "cell_type": "markdown",
   "metadata": {},
   "source": [
    "# University of Delaware"
   ]
  },
  {
   "cell_type": "code",
   "execution_count": null,
   "metadata": {},
   "outputs": [],
   "source": [
    "http://www1.udel.edu/police/crime-stats/open_data/20200306%20Use%20of%20Force.csv?"
   ]
  },
  {
   "cell_type": "code",
   "execution_count": null,
   "metadata": {},
   "outputs": [],
   "source": [
    "delaware = pd.read_csv('http://www1.udel.edu/police/crime-stats/open_data/2016_use_of_force_csv.csv?')\n",
    "delaware.to_csv(data_path / 'Delaware.csv')"
   ]
  },
  {
   "cell_type": "code",
   "execution_count": null,
   "metadata": {},
   "outputs": [],
   "source": [
    "delaware['State'] = 'DE'\n",
    "delaware['City'] = 'Newark'\n",
    "delaware.head()\n",
    "\n",
    "delaware.to_csv(data_path / 'Delaware_copy.csv')"
   ]
  },
  {
   "cell_type": "markdown",
   "metadata": {},
   "source": [
    "# XLS "
   ]
  },
  {
   "cell_type": "code",
   "execution_count": null,
   "metadata": {},
   "outputs": [],
   "source": [
    "north_bergen = pd.DataFrame(pd.read_excel(data_path / \"North_bergen.xls\")) \n",
    "  \n",
    "north_bergen.head() "
   ]
  },
  {
   "cell_type": "markdown",
   "metadata": {},
   "source": [
    "# Bedford"
   ]
  },
  {
   "cell_type": "code",
   "execution_count": null,
   "metadata": {},
   "outputs": [],
   "source": [
    "bedford = pd.read_csv(data_path / 'Bedford.csv', header=1)\n",
    "\n",
    "print(bedford.info())\n",
    "bedford.head()"
   ]
  },
  {
   "cell_type": "code",
   "execution_count": null,
   "metadata": {},
   "outputs": [],
   "source": [
    "bedford['State'] = 'VA'\n",
    "bedford['City'] = 'Bedford'\n",
    "bedford.head()\n",
    "\n",
    "bedford.to_csv(data_path / 'Bedford_copy.csv')"
   ]
  },
  {
   "cell_type": "markdown",
   "metadata": {},
   "source": [
    "# Beloit"
   ]
  },
  {
   "cell_type": "code",
   "execution_count": null,
   "metadata": {},
   "outputs": [],
   "source": [
    "beloit = pd.read_csv(data_path / 'Beloit.csv')\n",
    "\n",
    "print(beloit.info())\n",
    "beloit.head()"
   ]
  },
  {
   "cell_type": "code",
   "execution_count": null,
   "metadata": {},
   "outputs": [],
   "source": [
    "beloit['State'] = 'WI'\n",
    "beloit['City'] = 'Beloit'\n",
    "\n",
    "beloit.to_csv(data_path / 'Beloit_copy.csv')"
   ]
  },
  {
   "cell_type": "markdown",
   "metadata": {},
   "source": [
    "# Bloomington"
   ]
  },
  {
   "cell_type": "code",
   "execution_count": null,
   "metadata": {},
   "outputs": [],
   "source": [
    "bloomington = pd.read_csv(data_path / 'Bloomington.csv')\n",
    "\n",
    "print(bloomington.info())\n",
    "bloomington.head()"
   ]
  },
  {
   "cell_type": "code",
   "execution_count": null,
   "metadata": {},
   "outputs": [],
   "source": [
    "bloomington['State'] = 'IN'\n",
    "bloomington['City'] = 'Bloomington'\n",
    "\n",
    "bloomington.to_csv(data_path / 'Bloomington_copy.csv')"
   ]
  },
  {
   "cell_type": "markdown",
   "metadata": {},
   "source": [
    "# Dallas"
   ]
  },
  {
   "cell_type": "code",
   "execution_count": null,
   "metadata": {},
   "outputs": [],
   "source": [
    "dallas = pd.read_csv(data_path / 'Dallas.csv')\n",
    "\n",
    "print(dallas.info())\n",
    "dallas.head()"
   ]
  },
  {
   "cell_type": "code",
   "execution_count": null,
   "metadata": {},
   "outputs": [],
   "source": [
    "dallas['State'] = 'TX'\n",
    "dallas['City'] = 'Dallas'\n",
    "\n",
    "dallas.to_csv(data_path / 'Dallas_copy.csv')"
   ]
  },
  {
   "cell_type": "markdown",
   "metadata": {},
   "source": [
    "# North Hampton"
   ]
  },
  {
   "cell_type": "code",
   "execution_count": null,
   "metadata": {},
   "outputs": [],
   "source": [
    "northhampton = pd.read_csv(data_path / 'Northhampton.csv', header=1)\n",
    "\n",
    "print(northhampton.info())\n",
    "northhampton.head()"
   ]
  },
  {
   "cell_type": "code",
   "execution_count": null,
   "metadata": {},
   "outputs": [],
   "source": [
    "northhampton['State'] = 'MA'\n",
    "northhampton['City'] = ' Northampton'\n",
    "\n",
    "northhampton.to_csv(data_path / 'Northhampton_copy.csv')"
   ]
  },
  {
   "cell_type": "markdown",
   "metadata": {},
   "source": [
    "# Norwich"
   ]
  },
  {
   "cell_type": "code",
   "execution_count": null,
   "metadata": {},
   "outputs": [],
   "source": [
    "norwich = pd.read_csv(data_path / 'Norwich.csv', header=1)\n",
    "\n",
    "print(norwich.info())\n",
    "norwich.head()"
   ]
  },
  {
   "cell_type": "code",
   "execution_count": null,
   "metadata": {},
   "outputs": [],
   "source": [
    "norwich['State'] = 'CT'\n",
    "norwich['City'] = 'Norwich'\n",
    "\n",
    "norwich.to_csv(data_path / 'Norwich_copy.csv')"
   ]
  },
  {
   "cell_type": "markdown",
   "metadata": {},
   "source": [
    "# Merge "
   ]
  },
  {
   "cell_type": "code",
   "execution_count": null,
   "metadata": {},
   "outputs": [],
   "source": [
    "pd.set_option('display.max_columns', None)\n",
    "\n",
    "merge_path = Path(here('./data/raw/to_merge'))"
   ]
  },
  {
   "cell_type": "code",
   "execution_count": null,
   "metadata": {},
   "outputs": [],
   "source": [
    "files = list(merge_path.glob('*.csv'))\n",
    "\n",
    "for i in files:\n",
    "    print(f'Full file name:  {i.name}, \\n File name: {i.stem}, \\n Type: {i.suffix}')"
   ]
  },
  {
   "cell_type": "code",
   "execution_count": null,
   "metadata": {},
   "outputs": [],
   "source": [
    "def read(fp):\n",
    "    df = (pd.read_csv(fp)\n",
    "          .pipe(clean_columns)\n",
    "          #.pipe(mapping)\n",
    "         )\n",
    "    return df\n",
    "\n",
    "def clean_columns(df):\n",
    "    #df = pd.read_csv(df)\n",
    "    df.columns = df.columns.str.strip().str.lower().str.replace(' ', '_').str.replace('(', '').str.replace(')', '')\n",
    "    \n",
    "    return df\n",
    "\n",
    "def mapping(df):\n",
    "    col_mapping_dict = {c[0]:c[1] for c in enumerate(df.columns)}\n",
    "    \n",
    "    return col_mapping_dict"
   ]
  },
  {
   "cell_type": "code",
   "execution_count": null,
   "metadata": {},
   "outputs": [],
   "source": [
    "df = pd.concat([pd.read_excel(file, header=1) for file in files])\n",
    "df.to_csv('Norwich.csv', index=False)"
   ]
  },
  {
   "cell_type": "code",
   "execution_count": null,
   "metadata": {},
   "outputs": [],
   "source": [
    "import os\n",
    "import pandas as pd\n",
    "cwd = os.path.abspath('') \n",
    "files = os.listdir(cwd) \n",
    "\n",
    "df = pd.DataFrame()\n",
    "for file in files:\n",
    "     if file.endswith('.csv'):\n",
    "        df = df.append(pd.read_csv(file), ignore_index=True) \n",
    "df.head()\n",
    "\n",
    "df.to_csv(cwd + 'police_initiate_copy.csv')"
   ]
  },
  {
   "cell_type": "code",
   "execution_count": null,
   "metadata": {},
   "outputs": [],
   "source": [
    "# Bedford"
   ]
  },
  {
   "cell_type": "code",
   "execution_count": null,
   "metadata": {},
   "outputs": [],
   "source": [
    "bedford = read(merge_path / 'Bedford_Copy.csv')"
   ]
  },
  {
   "cell_type": "code",
   "execution_count": null,
   "metadata": {},
   "outputs": [],
   "source": [
    "bedford.head(20)"
   ]
  },
  {
   "cell_type": "code",
   "execution_count": null,
   "metadata": {},
   "outputs": [],
   "source": [
    "cols = ['am/pm' ,'start_of_pursuit', 'end_time_of_pursuit', 'complaint_type', 'approx._speed_of_suspect', 'mental_health\\n_complaint?',\n",
    "        'years_of_service.1', 'years_of_service', 'type_of_force', 'rank.1', 'impact', \n",
    "        'approx._speed_of_officer', 'other.1','other' ,'injury,_if_any.2', 'assaultive_to_cause_death_or_great_bodily_harm', 'rank']\n",
    "\n",
    "UOF = ['physical','impact', 'electronic', 'chemical', 'pistol', 'rifle', 'shotgun']"
   ]
  },
  {
   "cell_type": "code",
   "execution_count": null,
   "metadata": {},
   "outputs": [],
   "source": [
    "mapping(bedford)"
   ]
  },
  {
   "cell_type": "code",
   "execution_count": null,
   "metadata": {},
   "outputs": [],
   "source": [
    "bedford.info()"
   ]
  },
  {
   "cell_type": "code",
   "execution_count": null,
   "metadata": {},
   "outputs": [],
   "source": [
    "bedford['type_of_force'] = bedford[['physical','impact', 'electronic', 'chemical', 'pistol', 'rifle', 'shotgun']].agg('-'.join, axis=1)"
   ]
  },
  {
   "cell_type": "code",
   "execution_count": null,
   "metadata": {},
   "outputs": [],
   "source": [
    "df = bedford.drop(columns=cols)"
   ]
  },
  {
   "cell_type": "code",
   "execution_count": null,
   "metadata": {},
   "outputs": [],
   "source": [
    "df.head()"
   ]
  },
  {
   "cell_type": "code",
   "execution_count": null,
   "metadata": {},
   "outputs": [],
   "source": [
    "df.to_csv(data_path / 'Bedford_clean.csv')"
   ]
  },
  {
   "cell_type": "code",
   "execution_count": null,
   "metadata": {},
   "outputs": [],
   "source": [
    "force = bedford[['physical','impact', 'electronic', 'chemical', 'pistol', 'rifle', 'shotgun']]"
   ]
  },
  {
   "cell_type": "code",
   "execution_count": null,
   "metadata": {},
   "outputs": [],
   "source": [
    "df = force.replace(['X'], 1)"
   ]
  },
  {
   "cell_type": "code",
   "execution_count": null,
   "metadata": {},
   "outputs": [],
   "source": [
    "df.head()"
   ]
  },
  {
   "cell_type": "code",
   "execution_count": null,
   "metadata": {},
   "outputs": [],
   "source": [
    "df_stacked = df.stack() "
   ]
  },
  {
   "cell_type": "code",
   "execution_count": null,
   "metadata": {},
   "outputs": [],
   "source": [
    "df_stacked.head()"
   ]
  },
  {
   "cell_type": "code",
   "execution_count": null,
   "metadata": {},
   "outputs": [],
   "source": [
    "# Beloit"
   ]
  },
  {
   "cell_type": "code",
   "execution_count": null,
   "metadata": {},
   "outputs": [],
   "source": [
    "beloit = read(data_path / 'Beloit-Copy.csv')"
   ]
  },
  {
   "cell_type": "code",
   "execution_count": null,
   "metadata": {},
   "outputs": [],
   "source": [
    "beloit.head()"
   ]
  },
  {
   "cell_type": "code",
   "execution_count": null,
   "metadata": {},
   "outputs": [],
   "source": [
    "mapping(beloit)"
   ]
  },
  {
   "cell_type": "code",
   "execution_count": null,
   "metadata": {},
   "outputs": [],
   "source": [
    "beloit = beloit.drop('cad#', axis=1)"
   ]
  },
  {
   "cell_type": "code",
   "execution_count": null,
   "metadata": {},
   "outputs": [],
   "source": [
    "beloit.to_csv(data_path / 'Beloit_clean.csv')"
   ]
  },
  {
   "cell_type": "code",
   "execution_count": null,
   "metadata": {},
   "outputs": [],
   "source": [
    "# Bloomington"
   ]
  },
  {
   "cell_type": "code",
   "execution_count": null,
   "metadata": {},
   "outputs": [],
   "source": [
    "bloomington = read(data_path / 'Bloomington_copy.csv')"
   ]
  },
  {
   "cell_type": "code",
   "execution_count": null,
   "metadata": {},
   "outputs": [],
   "source": [
    "bloomington.head()"
   ]
  },
  {
   "cell_type": "code",
   "execution_count": null,
   "metadata": {},
   "outputs": [],
   "source": [
    "mapping(bloomington)"
   ]
  },
  {
   "cell_type": "code",
   "execution_count": null,
   "metadata": {},
   "outputs": [],
   "source": [
    "# at this point I have decided that I will not be dropping too many columns. \n",
    "# going forward each PD data set will be treated as is with only minor drops as needed.\n",
    "# I will mostly be renaming columns to match in each dataset, see README. \n",
    "\n",
    "blom_drop = ['']"
   ]
  },
  {
   "cell_type": "code",
   "execution_count": null,
   "metadata": {},
   "outputs": [],
   "source": [
    "cin = read(data_path / 'Cincinnati_copy.csv')"
   ]
  },
  {
   "cell_type": "code",
   "execution_count": null,
   "metadata": {},
   "outputs": [],
   "source": [
    "cin.head()"
   ]
  },
  {
   "cell_type": "code",
   "execution_count": null,
   "metadata": {},
   "outputs": [],
   "source": [
    "mapping(cin)"
   ]
  },
  {
   "cell_type": "code",
   "execution_count": null,
   "metadata": {},
   "outputs": [],
   "source": [
    "cin_drop = ['unnamed:_0', 'district', 'incident_location_x', 'sna_neighborhood', 'cpd_neighborhood', 'community_council_neighborhood', 'cfs_no']"
   ]
  },
  {
   "cell_type": "code",
   "execution_count": null,
   "metadata": {},
   "outputs": [],
   "source": [
    "cin = cin.drop(columns=cin_drop)"
   ]
  },
  {
   "cell_type": "code",
   "execution_count": null,
   "metadata": {},
   "outputs": [],
   "source": [
    "cin.to_csv(data_path / 'cincinnati_clean.csv')"
   ]
  },
  {
   "cell_type": "code",
   "execution_count": null,
   "metadata": {},
   "outputs": [],
   "source": []
  },
  {
   "cell_type": "code",
   "execution_count": null,
   "metadata": {},
   "outputs": [],
   "source": []
  },
  {
   "cell_type": "code",
   "execution_count": null,
   "metadata": {},
   "outputs": [],
   "source": [
    "data_path"
   ]
  },
  {
   "cell_type": "code",
   "execution_count": null,
   "metadata": {},
   "outputs": [],
   "source": [
    "cin = read(data_path / 'Cincinnati.csv')"
   ]
  },
  {
   "cell_type": "code",
   "execution_count": null,
   "metadata": {},
   "outputs": [],
   "source": [
    "cin.head()"
   ]
  },
  {
   "cell_type": "code",
   "execution_count": null,
   "metadata": {},
   "outputs": [],
   "source": [
    "cin.isnull().sum()"
   ]
  },
  {
   "cell_type": "code",
   "execution_count": null,
   "metadata": {},
   "outputs": [],
   "source": [
    "cin.shape"
   ]
  },
  {
   "cell_type": "code",
   "execution_count": null,
   "metadata": {},
   "outputs": [],
   "source": [
    "cin.info()"
   ]
  },
  {
   "cell_type": "code",
   "execution_count": null,
   "metadata": {},
   "outputs": [],
   "source": [
    "mapping(cin)"
   ]
  },
  {
   "cell_type": "code",
   "execution_count": null,
   "metadata": {},
   "outputs": [],
   "source": [
    "cin['incident_date']= pd.to_datetime(cin['incident_date'])"
   ]
  },
  {
   "cell_type": "code",
   "execution_count": null,
   "metadata": {},
   "outputs": [],
   "source": [
    "cin.head()"
   ]
  },
  {
   "cell_type": "code",
   "execution_count": null,
   "metadata": {},
   "outputs": [],
   "source": [
    "cols = ['case_no', 'cfs_no', 'district', 'incident_type', 'incident_location_x', 'sna_neighborhood', 'cpd_neighborhood', 'community_council_neighborhood']"
   ]
  },
  {
   "cell_type": "code",
   "execution_count": null,
   "metadata": {},
   "outputs": [],
   "source": [
    "cin = cin.drop(columns=cols)"
   ]
  },
  {
   "cell_type": "code",
   "execution_count": null,
   "metadata": {},
   "outputs": [],
   "source": [
    "cin.head()"
   ]
  },
  {
   "cell_type": "code",
   "execution_count": null,
   "metadata": {},
   "outputs": [],
   "source": []
  },
  {
   "cell_type": "code",
   "execution_count": null,
   "metadata": {},
   "outputs": [],
   "source": [
    "dallas = read(data_path / 'Dallas.csv')\n",
    "dallas.head()"
   ]
  },
  {
   "cell_type": "code",
   "execution_count": null,
   "metadata": {},
   "outputs": [],
   "source": [
    "dallas_drop = ['objectid', 'match_addr', 'filenum', 'current_baxx', 'hire_dt', 'off_injure', 'offcondtyp', 'off_hospit', 'service_ty', 'uof_reason',\n",
    "               'cycles_num', 'forceeffec', 'street_n', 'street', 'street_g', 'street_t', 'address', 'citnum', 'cit_injure', 'citcondtype', 'cit_arrest',\n",
    "               'citcharget', 'ra', 'beat', 'sector', 'division', 'dist_name', 'taag_name', 'current_ba', 'arc_street', 'zip', 'council_district',\n",
    "               'id', 'current_badge_no', 'off_injured', 'offcondtype', 'off_hospital', 'service_type', 'forceeffective', 'cit_injured', 'citcondtype',\n",
    "               'cit_arrested', 'cit_infl_assmt', 'citchargetype', 'cit_infl_a', 'citcondtyp', 'latitude', 'longitude', 'occurred_tm', 'occurred_dt',\n",
    "               'x', 'y', 'geolocation', 'occurred_t']"
   ]
  },
  {
   "cell_type": "code",
   "execution_count": null,
   "metadata": {},
   "outputs": [],
   "source": [
    "dallas = dallas.drop(columns=dallas_drop)\n",
    "dallas.head()"
   ]
  },
  {
   "cell_type": "code",
   "execution_count": null,
   "metadata": {},
   "outputs": [],
   "source": [
    "dallas['lat'] = 32.779167\n",
    "dallas['lon'] = -96.808891\n",
    "\n",
    "dallas.head()"
   ]
  },
  {
   "cell_type": "code",
   "execution_count": null,
   "metadata": {},
   "outputs": [],
   "source": [
    "dallas = dallas.rename(columns= {'uofnum': 'incident_number', \n",
    "                                 'occurred_d': 'incident_date', \n",
    "                                 'offsex': 'officer_gender', \n",
    "                                 'offrace': 'officer_race', \n",
    "                                 'forcetype': 'force_type',\n",
    "                                 'citrace': 'subject_race',\n",
    "                                 'citsex': 'subject_gender'})"
   ]
  },
  {
   "cell_type": "code",
   "execution_count": null,
   "metadata": {},
   "outputs": [],
   "source": [
    "dallas['incident_date'] = pd.to_datetime(dallas['incident_date'])"
   ]
  },
  {
   "cell_type": "code",
   "execution_count": null,
   "metadata": {},
   "outputs": [],
   "source": [
    "\n",
    "\n",
    "dallas.info()"
   ]
  },
  {
   "cell_type": "code",
   "execution_count": null,
   "metadata": {},
   "outputs": [],
   "source": [
    "dallas['incident_date'] = dallas['occurred_d'] + ' ' + dallas['occurred_t']"
   ]
  },
  {
   "cell_type": "code",
   "execution_count": null,
   "metadata": {},
   "outputs": [],
   "source": [
    "dallas['incident_date']"
   ]
  },
  {
   "cell_type": "code",
   "execution_count": null,
   "metadata": {},
   "outputs": [],
   "source": [
    "def combine_date_time(df, datecol, timecol):\n",
    "    return df.apply(lambda row: row[datecol].replace(\n",
    "                                hour=row[timecol].hour,\n",
    "                                minute=row[timecol].minute),\n",
    "                    axis=1)"
   ]
  },
  {
   "cell_type": "code",
   "execution_count": null,
   "metadata": {},
   "outputs": [],
   "source": [
    "combine_date_time(dallas, dallas['occurred_d'], dallas['occurred_t'])"
   ]
  },
  {
   "cell_type": "code",
   "execution_count": null,
   "metadata": {},
   "outputs": [],
   "source": []
  },
  {
   "cell_type": "code",
   "execution_count": null,
   "metadata": {},
   "outputs": [],
   "source": [
    "dallas.to_csv(data_path / 'Dallas_clean.csv')"
   ]
  },
  {
   "cell_type": "code",
   "execution_count": null,
   "metadata": {},
   "outputs": [],
   "source": [
    "dallas['geolocation'] = dallas['geolocation'].str.split('(')"
   ]
  },
  {
   "cell_type": "code",
   "execution_count": null,
   "metadata": {},
   "outputs": [],
   "source": [
    "dallas['geolocation'] = dallas['geolocation'].str[1].replace(')', '')"
   ]
  },
  {
   "cell_type": "code",
   "execution_count": null,
   "metadata": {},
   "outputs": [],
   "source": [
    "dallas['geolocation'] = dallas['geolocation'].str[1]"
   ]
  },
  {
   "cell_type": "code",
   "execution_count": null,
   "metadata": {},
   "outputs": [],
   "source": [
    "dallas['geolocation']"
   ]
  },
  {
   "cell_type": "code",
   "execution_count": null,
   "metadata": {},
   "outputs": [],
   "source": []
  },
  {
   "cell_type": "code",
   "execution_count": null,
   "metadata": {},
   "outputs": [],
   "source": []
  },
  {
   "cell_type": "code",
   "execution_count": null,
   "metadata": {},
   "outputs": [],
   "source": [
    "# cincinnati\n",
    "\n",
    "cin = read(data_path / 'Cincinnati.csv')\n",
    "cin.head()"
   ]
  },
  {
   "cell_type": "code",
   "execution_count": null,
   "metadata": {},
   "outputs": [],
   "source": [
    "mapping(cin)"
   ]
  },
  {
   "cell_type": "code",
   "execution_count": null,
   "metadata": {},
   "outputs": [],
   "source": [
    "cin_drop = ['case_no', 'cfs_no', 'district', 'incident_type', 'incident_location_x', 'latitude_x', 'longitude_x', 'sna_neighborhood', 'cpd_neighborhood', 'community_council_neighborhood']"
   ]
  },
  {
   "cell_type": "code",
   "execution_count": null,
   "metadata": {},
   "outputs": [],
   "source": [
    "cin = cin.drop(columns=cin_drop)"
   ]
  },
  {
   "cell_type": "code",
   "execution_count": null,
   "metadata": {},
   "outputs": [],
   "source": [
    "cin.head()"
   ]
  },
  {
   "cell_type": "code",
   "execution_count": null,
   "metadata": {},
   "outputs": [],
   "source": [
    "cin.info()"
   ]
  },
  {
   "cell_type": "code",
   "execution_count": null,
   "metadata": {},
   "outputs": [],
   "source": [
    "cin['incident_date'] = pd.to_datetime(cin['incident_date'])"
   ]
  },
  {
   "cell_type": "code",
   "execution_count": null,
   "metadata": {},
   "outputs": [],
   "source": [
    "cin = cin.rename(columns= {'uofnum': 'incident_number', \n",
    "                                 'occurred_d': 'incident_date', \n",
    "                                 'offsex': 'officer_gender', \n",
    "                                 'offrace': 'officer_race', \n",
    "                                 'forcetype': 'force_type',\n",
    "                                 'citrace': 'subject_race',\n",
    "                                 'citsex': 'subject_gender',\n",
    "                                 'suspect_age': 'subject_age'})"
   ]
  },
  {
   "cell_type": "code",
   "execution_count": null,
   "metadata": {},
   "outputs": [],
   "source": [
    "cin.head()"
   ]
  },
  {
   "cell_type": "code",
   "execution_count": null,
   "metadata": {},
   "outputs": [],
   "source": [
    "cin['lat'] = 39.1636505\n",
    "cin['lon'] = -86.525757"
   ]
  },
  {
   "cell_type": "code",
   "execution_count": null,
   "metadata": {},
   "outputs": [],
   "source": [
    "cin.head()"
   ]
  },
  {
   "cell_type": "code",
   "execution_count": null,
   "metadata": {},
   "outputs": [],
   "source": [
    "cin.to_csv(data_path / 'Cincinnati_clean')"
   ]
  },
  {
   "cell_type": "code",
   "execution_count": null,
   "metadata": {},
   "outputs": [],
   "source": [
    "merge_path = Path(here('./data/raw/to_merge/clean_df'))"
   ]
  },
  {
   "cell_type": "code",
   "execution_count": null,
   "metadata": {},
   "outputs": [],
   "source": [
    "files = list(merge_path.glob('*.csv'))\n",
    "\n",
    "#for i in files:\n",
    "#    print(f'Full file name:  {i.name}, \\n File name: {i.stem}, \\n Type: {i.suffix}')"
   ]
  },
  {
   "cell_type": "code",
   "execution_count": null,
   "metadata": {},
   "outputs": [],
   "source": [
    "files"
   ]
  },
  {
   "cell_type": "code",
   "execution_count": null,
   "metadata": {},
   "outputs": [],
   "source": [
    "import os\n",
    "import pandas as pd\n",
    "cwd = os.path.abspath('') \n",
    "files = os.listdir(cwd) \n",
    "\n",
    "df = pd.DataFrame()\n",
    "for file in files:\n",
    "     if file.endswith('.csv'):\n",
    "        df = df.append(pd.read_csv(file), ignore_index=True) \n",
    "df.head()\n",
    "\n",
    "df.to_csv(cwd + 'police_initiate_copy.csv')"
   ]
  },
  {
   "cell_type": "code",
   "execution_count": null,
   "metadata": {},
   "outputs": [],
   "source": [
    "cwd"
   ]
  },
  {
   "cell_type": "code",
   "execution_count": null,
   "metadata": {},
   "outputs": [],
   "source": []
  }
 ],
 "metadata": {
  "kernelspec": {
   "display_name": "HRF",
   "language": "python",
   "name": "hrf"
  },
  "language_info": {
   "codemirror_mode": {
    "name": "ipython",
    "version": 3
   },
   "file_extension": ".py",
   "mimetype": "text/x-python",
   "name": "python",
   "nbconvert_exporter": "python",
   "pygments_lexer": "ipython3",
   "version": "3.8.5"
  }
 },
 "nbformat": 4,
 "nbformat_minor": 4
}
