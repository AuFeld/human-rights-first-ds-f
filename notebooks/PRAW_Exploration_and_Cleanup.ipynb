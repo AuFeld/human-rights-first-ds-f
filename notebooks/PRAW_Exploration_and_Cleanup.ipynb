{
  "nbformat": 4,
  "nbformat_minor": 0,
  "metadata": {
    "colab": {
      "name": "PRAW Notebook 2",
      "provenance": [],
      "collapsed_sections": []
    },
    "kernelspec": {
      "name": "python3",
      "display_name": "Python 3"
    }
  },
  "cells": [
    {
      "cell_type": "code",
      "metadata": {
        "id": "GfMYp7uc6qmz",
        "colab_type": "code",
        "colab": {
          "base_uri": "https://localhost:8080/",
          "height": 343
        },
        "outputId": "18b47b69-d6a6-48fb-9ed5-60cb701ed5a1"
      },
      "source": [
        "pip install praw"
      ],
      "execution_count": 1,
      "outputs": [
        {
          "output_type": "stream",
          "text": [
            "Collecting praw\n",
            "\u001b[?25l  Downloading https://files.pythonhosted.org/packages/2c/15/4bcc44271afce0316c73cd2ed35f951f1363a07d4d5d5440ae5eb2baad78/praw-7.1.0-py3-none-any.whl (152kB)\n",
            "\r\u001b[K     |██▏                             | 10kB 17.0MB/s eta 0:00:01\r\u001b[K     |████▎                           | 20kB 1.7MB/s eta 0:00:01\r\u001b[K     |██████▌                         | 30kB 2.3MB/s eta 0:00:01\r\u001b[K     |████████▋                       | 40kB 2.5MB/s eta 0:00:01\r\u001b[K     |██████████▊                     | 51kB 2.0MB/s eta 0:00:01\r\u001b[K     |█████████████                   | 61kB 2.3MB/s eta 0:00:01\r\u001b[K     |███████████████                 | 71kB 2.5MB/s eta 0:00:01\r\u001b[K     |█████████████████▎              | 81kB 2.7MB/s eta 0:00:01\r\u001b[K     |███████████████████▍            | 92kB 2.7MB/s eta 0:00:01\r\u001b[K     |█████████████████████▌          | 102kB 2.8MB/s eta 0:00:01\r\u001b[K     |███████████████████████▊        | 112kB 2.8MB/s eta 0:00:01\r\u001b[K     |█████████████████████████▉      | 122kB 2.8MB/s eta 0:00:01\r\u001b[K     |████████████████████████████    | 133kB 2.8MB/s eta 0:00:01\r\u001b[K     |██████████████████████████████▏ | 143kB 2.8MB/s eta 0:00:01\r\u001b[K     |████████████████████████████████| 153kB 2.8MB/s \n",
            "\u001b[?25hCollecting update-checker>=0.17\n",
            "  Downloading https://files.pythonhosted.org/packages/0c/ba/8dd7fa5f0b1c6a8ac62f8f57f7e794160c1f86f31c6d0fb00f582372a3e4/update_checker-0.18.0-py3-none-any.whl\n",
            "Collecting websocket-client>=0.54.0\n",
            "\u001b[?25l  Downloading https://files.pythonhosted.org/packages/4c/5f/f61b420143ed1c8dc69f9eaec5ff1ac36109d52c80de49d66e0c36c3dfdf/websocket_client-0.57.0-py2.py3-none-any.whl (200kB)\n",
            "\u001b[K     |████████████████████████████████| 204kB 25.8MB/s \n",
            "\u001b[?25hCollecting prawcore<2.0,>=1.3.0\n",
            "  Downloading https://files.pythonhosted.org/packages/1d/40/b741437ce4c7b64f928513817b29c0a615efb66ab5e5e01f66fe92d2d95b/prawcore-1.5.0-py3-none-any.whl\n",
            "Requirement already satisfied: requests>=2.3.0 in /usr/local/lib/python3.6/dist-packages (from update-checker>=0.17->praw) (2.23.0)\n",
            "Requirement already satisfied: six in /usr/local/lib/python3.6/dist-packages (from websocket-client>=0.54.0->praw) (1.15.0)\n",
            "Requirement already satisfied: chardet<4,>=3.0.2 in /usr/local/lib/python3.6/dist-packages (from requests>=2.3.0->update-checker>=0.17->praw) (3.0.4)\n",
            "Requirement already satisfied: urllib3!=1.25.0,!=1.25.1,<1.26,>=1.21.1 in /usr/local/lib/python3.6/dist-packages (from requests>=2.3.0->update-checker>=0.17->praw) (1.24.3)\n",
            "Requirement already satisfied: certifi>=2017.4.17 in /usr/local/lib/python3.6/dist-packages (from requests>=2.3.0->update-checker>=0.17->praw) (2020.6.20)\n",
            "Requirement already satisfied: idna<3,>=2.5 in /usr/local/lib/python3.6/dist-packages (from requests>=2.3.0->update-checker>=0.17->praw) (2.10)\n",
            "Installing collected packages: update-checker, websocket-client, prawcore, praw\n",
            "Successfully installed praw-7.1.0 prawcore-1.5.0 update-checker-0.18.0 websocket-client-0.57.0\n"
          ],
          "name": "stdout"
        }
      ]
    },
    {
      "cell_type": "code",
      "metadata": {
        "id": "PEuGLNHa7s_i",
        "colab_type": "code",
        "colab": {}
      },
      "source": [
        "import praw\n",
        "import pandas as pd\n",
        "# Reddit credentials, password stored in .env \n",
        "# PRAW setup and login goes here, omitted for privacy"
      ],
      "execution_count": 2,
      "outputs": []
    },
    {
      "cell_type": "code",
      "metadata": {
        "id": "D8qgYIkMkmnN",
        "colab_type": "code",
        "colab": {
          "base_uri": "https://localhost:8080/",
          "height": 71
        },
        "outputId": "031fdaf4-272f-458e-ce8e-2da74362d6eb"
      },
      "source": [
        "# set up some sort of corpus of keywords to snag specific reddit entries\n",
        "all_locs = pd.read_json('https://raw.githubusercontent.com/2020PB/police-brutality/data_build/all-locations-v2.json')\n",
        "all_locs = pd.json_normalize(all_locs['data'])\n",
        "all_locs = all_locs.drop(columns=['edit_at','id'])\n",
        "def cleanlinks(json):\n",
        "    links_out = []\n",
        "    for link in json:\n",
        "        links_out.append(link['url'])\n",
        "    return links_out\n",
        "all_locs['links'] = all_locs['links'].apply(cleanlinks)\n",
        "all_locs['date'] = pd.to_datetime(all_locs['date'],format='%Y-%m-%d')\n",
        "all_tags = all_locs['tags'].copy()\n",
        "tags = set()\n",
        "for taglist in all_tags:\n",
        "  for tag in taglist:\n",
        "    if tag not in tags:\n",
        "      tags.add(tag)\n",
        "# manually remove needless tags\n",
        "print(tags)\n",
        "tags.discard('')\n",
        "tags.discard('medic')\n",
        "tags.discard('bike')\n",
        "tags.discard('non-protest')\n",
        "tags.discard('pregnant')\n",
        "tags.discard('lgbtq+')\n",
        "tags.discard('racial-profiling')\n",
        "tags.discard('legal-observer')\n",
        "tags.discard('tear-gas-canister')\n",
        "tags.discard('politician')\n",
        "tags.discard('incitement')\n",
        "tags.discard('homeless')\n",
        "tags.discard('shoot')\n",
        "tags.discard('strike')\n",
        "tags.discard('elderly')\n",
        "tags.discard('vehicle')\n",
        "tags.discard('inhumane-treatment')\n",
        "tags.discard('journalist')\n",
        "tags.discard('throw')\n",
        "tags.discard('explosive')\n",
        "tags.discard('threaten')\n",
        "tags.discard('horse')\n",
        "tags.discard('shove')\n",
        "tags.discard('child')\n",
        "tags.discard('shield')\n",
        "tags.discard('dog')\n",
        "tags.discard('knee')\n",
        "tags.discard('protester')\n",
        "tags.discard('gun')\n",
        "tags.discard('conceal')\n",
        "tags.discard('bystander')\n",
        "tags.discard('grab')\n",
        "tags.discard('push')\n",
        "tags.discard('zip-tie')\n",
        "tags.discard('spray')\n",
        "tags.discard('drive')\n",
        "tags.discard('person-with-disability')\n",
        "tags.discard('celebrity')\n",
        "tags.discard('projectile')\n",
        "tags.discard('beat')\n",
        "newtags = set()\n",
        "for tag in tags:\n",
        "  tag = newtags.add(tag.replace('-',' '))\n",
        "tags = newtags\n",
        "print(tags)"
      ],
      "execution_count": 3,
      "outputs": [
        {
          "output_type": "stream",
          "text": [
            "{'beat', '', 'arrest', 'wooden-bullet', 'throw', 'choke', 'pregnant', 'medic', 'mace', 'explosive', 'pepper-ball', 'horse', 'tear-gas-canister', 'child', 'knee-on-neck', 'conceal', 'legal-observer', 'spray', 'punch', 'pepper-spray', 'racial-profiling', 'protester', 'property-destruction', 'celebrity', 'rubber-bullet', 'abuse-of-power', 'push', 'gun', 'drive', 'elderly', 'non-protest', 'live-round', 'bean-bag', 'hide-badge', 'journalist', 'politician', 'incitement', 'projectile', 'gas', 'tear-gas', 'kick', 'shield', 'bystander', 'grab', 'baton', 'foam-bullet', 'lrad', 'taser', 'headlock', 'dog', 'strike', 'person-with-disability', 'threaten', 'homeless', 'body-cam', 'inhumane-treatment', 'shoot', 'tackle', 'shove', 'marking-round', 'lgbtq+', 'death', 'tase', 'vehicle', 'stun-grenade', 'bike', 'knee', 'zip-tie'}\n",
            "{'arrest', 'choke', 'mace', 'knee on neck', 'wooden bullet', 'punch', 'foam bullet', 'tear gas', 'gas', 'rubber bullet', 'kick', 'abuse of power', 'baton', 'lrad', 'taser', 'headlock', 'stun grenade', 'live round', 'marking round', 'pepper spray', 'pepper ball', 'bean bag', 'tackle', 'body cam', 'death', 'tase', 'hide badge', 'property destruction'}\n"
          ],
          "name": "stdout"
        }
      ]
    },
    {
      "cell_type": "code",
      "metadata": {
        "id": "Ml43DtIn_jJ9",
        "colab_type": "code",
        "colab": {
          "base_uri": "https://localhost:8080/",
          "height": 581
        },
        "outputId": "636e7f43-2e55-48fb-9aaa-40f6b005b1dc"
      },
      "source": [
        "# Grabbing 100 hottest posts on Reddit at the moment. Will filter for police use of force later\n",
        "\n",
        "data = []\n",
        "\n",
        "for submission in reddit.subreddit(\"news\").hot(limit=100):\n",
        "  data.append([submission.id, submission.title, submission.score, submission.subreddit, submission.url, \n",
        "               submission.num_comments, submission.selftext, submission.created])\n",
        "\n",
        "# We'll need a way to get coordinates for a given post, before we include that in df\n",
        "col_names = ['id', 'title', 'score', 'subreddit', 'url', \n",
        "             'num_comments', 'text', 'created']\n",
        "df = pd.DataFrame(data, columns=col_names)\n",
        "\n",
        "df.head()"
      ],
      "execution_count": 4,
      "outputs": [
        {
          "output_type": "execute_result",
          "data": {
            "text/html": [
              "<div>\n",
              "<style scoped>\n",
              "    .dataframe tbody tr th:only-of-type {\n",
              "        vertical-align: middle;\n",
              "    }\n",
              "\n",
              "    .dataframe tbody tr th {\n",
              "        vertical-align: top;\n",
              "    }\n",
              "\n",
              "    .dataframe thead th {\n",
              "        text-align: right;\n",
              "    }\n",
              "</style>\n",
              "<table border=\"1\" class=\"dataframe\">\n",
              "  <thead>\n",
              "    <tr style=\"text-align: right;\">\n",
              "      <th></th>\n",
              "      <th>id</th>\n",
              "      <th>title</th>\n",
              "      <th>score</th>\n",
              "      <th>subreddit</th>\n",
              "      <th>url</th>\n",
              "      <th>num_comments</th>\n",
              "      <th>text</th>\n",
              "      <th>created</th>\n",
              "    </tr>\n",
              "  </thead>\n",
              "  <tbody>\n",
              "    <tr>\n",
              "      <th>0</th>\n",
              "      <td>icq91v</td>\n",
              "      <td>Pennsylvania Among States To Sue Over Changes ...</td>\n",
              "      <td>6952</td>\n",
              "      <td>news</td>\n",
              "      <td>https://levittownnow.com/2020/08/18/pa-among-s...</td>\n",
              "      <td>223</td>\n",
              "      <td></td>\n",
              "      <td>1.597881e+09</td>\n",
              "    </tr>\n",
              "    <tr>\n",
              "      <th>1</th>\n",
              "      <td>icm712</td>\n",
              "      <td>New Mexico sues over US Postal Service changes.</td>\n",
              "      <td>67206</td>\n",
              "      <td>news</td>\n",
              "      <td>https://www.kob.com/new-mexico-news/new-mexico...</td>\n",
              "      <td>2116</td>\n",
              "      <td></td>\n",
              "      <td>1.597867e+09</td>\n",
              "    </tr>\n",
              "    <tr>\n",
              "      <th>2</th>\n",
              "      <td>icsg56</td>\n",
              "      <td>Mark Zuckerberg Is Despoiling a Tiny Coastal V...</td>\n",
              "      <td>2618</td>\n",
              "      <td>news</td>\n",
              "      <td>https://www.wweek.com/news/2020/08/19/mark-zuc...</td>\n",
              "      <td>224</td>\n",
              "      <td></td>\n",
              "      <td>1.597888e+09</td>\n",
              "    </tr>\n",
              "    <tr>\n",
              "      <th>3</th>\n",
              "      <td>icncj5</td>\n",
              "      <td>Man Accused Of Assaulting Sesame Place Worker ...</td>\n",
              "      <td>3852</td>\n",
              "      <td>news</td>\n",
              "      <td>http://levittownnow.com/2020/08/19/man-accused...</td>\n",
              "      <td>373</td>\n",
              "      <td></td>\n",
              "      <td>1.597871e+09</td>\n",
              "    </tr>\n",
              "    <tr>\n",
              "      <th>4</th>\n",
              "      <td>icjmim</td>\n",
              "      <td>The first marijuana vending machines now avail...</td>\n",
              "      <td>15840</td>\n",
              "      <td>news</td>\n",
              "      <td>https://growcola.com/marijuana-vending-machine...</td>\n",
              "      <td>880</td>\n",
              "      <td></td>\n",
              "      <td>1.597854e+09</td>\n",
              "    </tr>\n",
              "  </tbody>\n",
              "</table>\n",
              "</div>"
            ],
            "text/plain": [
              "       id                                              title  ...  text       created\n",
              "0  icq91v  Pennsylvania Among States To Sue Over Changes ...  ...        1.597881e+09\n",
              "1  icm712    New Mexico sues over US Postal Service changes.  ...        1.597867e+09\n",
              "2  icsg56  Mark Zuckerberg Is Despoiling a Tiny Coastal V...  ...        1.597888e+09\n",
              "3  icncj5  Man Accused Of Assaulting Sesame Place Worker ...  ...        1.597871e+09\n",
              "4  icjmim  The first marijuana vending machines now avail...  ...        1.597854e+09\n",
              "\n",
              "[5 rows x 8 columns]"
            ]
          },
          "metadata": {
            "tags": []
          },
          "execution_count": 4
        }
      ]
    },
    {
      "cell_type": "code",
      "metadata": {
        "id": "Xu5hSlDW3G6y",
        "colab_type": "code",
        "colab": {
          "base_uri": "https://localhost:8080/",
          "height": 71
        },
        "outputId": "09067d0f-f0e6-499b-8742-a9df847fcfda"
      },
      "source": [
        "import requests\n",
        "from bs4 import BeautifulSoup\n",
        "import re\n",
        "# get the url of the reddit post\n",
        "for url in df['url']:\n",
        "  # get the HTML from the url\n",
        "  r = requests.get(url)\n",
        "  soup = BeautifulSoup(r.text)\n",
        "  # get tags from metadata for the site\n",
        "  sitetags = set()\n",
        "  for meta in soup.find_all('meta'):\n",
        "    if meta is None:\n",
        "      continue\n",
        "    meta = str(meta)\n",
        "    meta = meta.lower()\n",
        "    meta = re.sub('[\\W_]+',' ', meta)\n",
        "    for tag in str(meta).split():\n",
        "      # print(tag)\n",
        "      sitetags.add(tag)\n",
        "  tags_final = sitetags & tags\n",
        "  if tags_final:\n",
        "    # some matches found, print title and matched tags\n",
        "    print(soup.title, tags_final)"
      ],
      "execution_count": null,
      "outputs": [
        {
          "output_type": "stream",
          "text": [
            "<title>4 teens, including juvenile, arrested in connection with Raleigh girl’s murder outside Bojangles’ </title> {'death'}\n",
            "<title>Police searching for suspect who sucker-punched elderly sidewalk sweeper – Boston News, Weather, Sports | WHDH 7News</title> {'punch'}\n"
          ],
          "name": "stdout"
        }
      ]
    },
    {
      "cell_type": "code",
      "metadata": {
        "id": "gtECtipJWHS8",
        "colab_type": "code",
        "colab": {}
      },
      "source": [
        ""
      ],
      "execution_count": null,
      "outputs": []
    }
  ]
}