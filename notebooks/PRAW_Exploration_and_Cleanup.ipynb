{
  "nbformat": 4,
  "nbformat_minor": 0,
  "metadata": {
    "colab": {
      "name": "PRAW Notebook 2",
      "provenance": [],
      "collapsed_sections": []
    },
    "kernelspec": {
      "name": "python3",
      "display_name": "Python 3"
    }
  },
  "cells": [
    {
      "cell_type": "code",
      "metadata": {
        "id": "GfMYp7uc6qmz",
        "colab_type": "code",
        "colab": {
          "base_uri": "https://localhost:8080/",
          "height": 207
        },
        "outputId": "d5cef428-3cfa-4d39-c446-502328e3412c"
      },
      "source": [
        "pip install praw"
      ],
      "execution_count": 1,
      "outputs": [
        {
          "output_type": "stream",
          "text": [
            "Requirement already satisfied: praw in /usr/local/lib/python3.6/dist-packages (7.1.0)\n",
            "Requirement already satisfied: update-checker>=0.17 in /usr/local/lib/python3.6/dist-packages (from praw) (0.18.0)\n",
            "Requirement already satisfied: websocket-client>=0.54.0 in /usr/local/lib/python3.6/dist-packages (from praw) (0.57.0)\n",
            "Requirement already satisfied: prawcore<2.0,>=1.3.0 in /usr/local/lib/python3.6/dist-packages (from praw) (1.5.0)\n",
            "Requirement already satisfied: requests>=2.3.0 in /usr/local/lib/python3.6/dist-packages (from update-checker>=0.17->praw) (2.23.0)\n",
            "Requirement already satisfied: six in /usr/local/lib/python3.6/dist-packages (from websocket-client>=0.54.0->praw) (1.15.0)\n",
            "Requirement already satisfied: certifi>=2017.4.17 in /usr/local/lib/python3.6/dist-packages (from requests>=2.3.0->update-checker>=0.17->praw) (2020.6.20)\n",
            "Requirement already satisfied: chardet<4,>=3.0.2 in /usr/local/lib/python3.6/dist-packages (from requests>=2.3.0->update-checker>=0.17->praw) (3.0.4)\n",
            "Requirement already satisfied: urllib3!=1.25.0,!=1.25.1,<1.26,>=1.21.1 in /usr/local/lib/python3.6/dist-packages (from requests>=2.3.0->update-checker>=0.17->praw) (1.24.3)\n",
            "Requirement already satisfied: idna<3,>=2.5 in /usr/local/lib/python3.6/dist-packages (from requests>=2.3.0->update-checker>=0.17->praw) (2.10)\n"
          ],
          "name": "stdout"
        }
      ]
    },
    {
      "cell_type": "code",
      "metadata": {
        "id": "PEuGLNHa7s_i",
        "colab_type": "code",
        "colab": {}
      },
      "source": [
        "import praw\n",
        "import pandas as pd\n",
        "# Reddit credentials, password stored in .env \n",
        "# PRAW setup and login goes here, omitted for privacy"
      ],
      "execution_count": 2,
      "outputs": []
    },
    {
      "cell_type": "code",
      "metadata": {
        "id": "D8qgYIkMkmnN",
        "colab_type": "code",
        "colab": {
          "base_uri": "https://localhost:8080/",
          "height": 71
        },
        "outputId": "cbc8eda3-58ce-4d74-f1fc-27fd34558a6e"
      },
      "source": [
        "# set up some sort of corpus of keywords to snag specific reddit entries\n",
        "all_locs = pd.read_json('https://raw.githubusercontent.com/2020PB/police-brutality/data_build/all-locations-v2.json')\n",
        "all_locs = pd.json_normalize(all_locs['data'])\n",
        "all_locs = all_locs.drop(columns=['edit_at','id'])\n",
        "def cleanlinks(json):\n",
        "    links_out = []\n",
        "    for link in json:\n",
        "        links_out.append(link['url'])\n",
        "    return links_out\n",
        "all_locs['links'] = all_locs['links'].apply(cleanlinks)\n",
        "all_locs['date'] = pd.to_datetime(all_locs['date'],format='%Y-%m-%d')\n",
        "all_tags = all_locs['tags'].copy()\n",
        "tags = set()\n",
        "for taglist in all_tags:\n",
        "  for tag in taglist:\n",
        "    if tag not in tags:\n",
        "      tags.add(tag)\n",
        "# manually remove needless tags\n",
        "print(tags)\n",
        "tags.discard('')\n",
        "tags.discard('medic')\n",
        "tags.discard('bike')\n",
        "tags.discard('non-protest')\n",
        "tags.discard('pregnant')\n",
        "tags.discard('lgbtq+')\n",
        "tags.discard('racial-profiling')\n",
        "tags.discard('legal-observer')\n",
        "tags.discard('tear-gas-canister')\n",
        "tags.discard('politician')\n",
        "tags.discard('incitement')\n",
        "tags.discard('homeless')\n",
        "tags.discard('shoot')\n",
        "tags.discard('strike')\n",
        "tags.discard('elderly')\n",
        "tags.discard('vehicle')\n",
        "tags.discard('inhumane-treatment')\n",
        "tags.discard('journalist')\n",
        "tags.discard('throw')\n",
        "tags.discard('explosive')\n",
        "tags.discard('threaten')\n",
        "tags.discard('horse')\n",
        "tags.discard('shove')\n",
        "tags.discard('child')\n",
        "tags.discard('shield')\n",
        "tags.discard('dog')\n",
        "tags.discard('knee')\n",
        "tags.discard('protester')\n",
        "tags.discard('gun')\n",
        "tags.discard('conceal')\n",
        "tags.discard('bystander')\n",
        "tags.discard('grab')\n",
        "tags.discard('push')\n",
        "tags.discard('zip-tie')\n",
        "tags.discard('spray')\n",
        "tags.discard('drive')\n",
        "tags.discard('person-with-disability')\n",
        "tags.discard('celebrity')\n",
        "tags.discard('projectile')\n",
        "tags.discard('beat')\n",
        "newtags = set()\n",
        "for tag in tags:\n",
        "  tag = newtags.add(tag.replace('-',' '))\n",
        "tags = newtags\n",
        "print(tags)"
      ],
      "execution_count": 3,
      "outputs": [
        {
          "output_type": "stream",
          "text": [
            "{'marking-round', '', 'knee-on-neck', 'strike', 'bike', 'non-protest', 'lgbtq+', 'conceal', 'gun', 'gas', 'live-round', 'tear-gas', 'knee', 'zip-tie', 'pepper-spray', 'death', 'horse', 'rubber-bullet', 'tackle', 'arrest', 'pepper-ball', 'shove', 'inhumane-treatment', 'person-with-disability', 'tase', 'beat', 'baton', 'elderly', 'mace', 'punch', 'shield', 'headlock', 'legal-observer', 'politician', 'homeless', 'kick', 'shoot', 'medic', 'protester', 'bystander', 'push', 'child', 'projectile', 'stun-grenade', 'wooden-bullet', 'journalist', 'hide-badge', 'abuse-of-power', 'incitement', 'celebrity', 'foam-bullet', 'vehicle', 'drive', 'choke', 'body-cam', 'dog', 'threaten', 'explosive', 'racial-profiling', 'throw', 'property-destruction', 'spray', 'tear-gas-canister', 'pregnant', 'lrad', 'taser', 'grab', 'bean-bag'}\n",
            "{'property destruction', 'marking round', 'rubber bullet', 'pepper spray', 'gas', 'death', 'tear gas', 'hide badge', 'tackle', 'arrest', 'tase', 'pepper ball', 'baton', 'knee on neck', 'mace', 'punch', 'headlock', 'kick', 'stun grenade', 'wooden bullet', 'abuse of power', 'body cam', 'bean bag', 'choke', 'lrad', 'foam bullet', 'taser', 'live round'}\n"
          ],
          "name": "stdout"
        }
      ]
    },
    {
      "cell_type": "code",
      "metadata": {
        "id": "Ml43DtIn_jJ9",
        "colab_type": "code",
        "colab": {
          "base_uri": "https://localhost:8080/",
          "height": 564
        },
        "outputId": "7a272b9a-bd75-48e9-d09e-36737265804a"
      },
      "source": [
        "# Grabbing 100 hottest posts on Reddit at the moment. Will filter for police use of force later\n",
        "\n",
        "data = []\n",
        "\n",
        "# other possible subreddits: publicfreakout, allcopnodonut\n",
        "for submission in reddit.subreddit(\"news\").hot(limit=1000):\n",
        "  data.append([submission.id, submission.title, submission.score, submission.subreddit, submission.url, \n",
        "               submission.num_comments, submission.selftext, submission.created])\n",
        "\n",
        "# We'll need a way to get coordinates for a given post, before we include that in df\n",
        "col_names = ['id', 'title', 'score', 'subreddit', 'url', \n",
        "             'num_comments', 'text', 'created']\n",
        "df = pd.DataFrame(data, columns=col_names)\n",
        "\n",
        "df.head()"
      ],
      "execution_count": 6,
      "outputs": [
        {
          "output_type": "execute_result",
          "data": {
            "text/html": [
              "<div>\n",
              "<style scoped>\n",
              "    .dataframe tbody tr th:only-of-type {\n",
              "        vertical-align: middle;\n",
              "    }\n",
              "\n",
              "    .dataframe tbody tr th {\n",
              "        vertical-align: top;\n",
              "    }\n",
              "\n",
              "    .dataframe thead th {\n",
              "        text-align: right;\n",
              "    }\n",
              "</style>\n",
              "<table border=\"1\" class=\"dataframe\">\n",
              "  <thead>\n",
              "    <tr style=\"text-align: right;\">\n",
              "      <th></th>\n",
              "      <th>id</th>\n",
              "      <th>title</th>\n",
              "      <th>score</th>\n",
              "      <th>subreddit</th>\n",
              "      <th>url</th>\n",
              "      <th>num_comments</th>\n",
              "      <th>text</th>\n",
              "      <th>created</th>\n",
              "    </tr>\n",
              "  </thead>\n",
              "  <tbody>\n",
              "    <tr>\n",
              "      <th>0</th>\n",
              "      <td>icq91v</td>\n",
              "      <td>Pennsylvania Among States To Sue Over Changes ...</td>\n",
              "      <td>14873</td>\n",
              "      <td>news</td>\n",
              "      <td>https://levittownnow.com/2020/08/18/pa-among-s...</td>\n",
              "      <td>392</td>\n",
              "      <td></td>\n",
              "      <td>1.597881e+09</td>\n",
              "    </tr>\n",
              "    <tr>\n",
              "      <th>1</th>\n",
              "      <td>icsg56</td>\n",
              "      <td>Mark Zuckerberg Is Despoiling a Tiny Coastal V...</td>\n",
              "      <td>4197</td>\n",
              "      <td>news</td>\n",
              "      <td>https://www.wweek.com/news/2020/08/19/mark-zuc...</td>\n",
              "      <td>325</td>\n",
              "      <td></td>\n",
              "      <td>1.597888e+09</td>\n",
              "    </tr>\n",
              "    <tr>\n",
              "      <th>2</th>\n",
              "      <td>icm712</td>\n",
              "      <td>New Mexico sues over US Postal Service changes.</td>\n",
              "      <td>69055</td>\n",
              "      <td>news</td>\n",
              "      <td>https://www.kob.com/new-mexico-news/new-mexico...</td>\n",
              "      <td>2161</td>\n",
              "      <td></td>\n",
              "      <td>1.597867e+09</td>\n",
              "    </tr>\n",
              "    <tr>\n",
              "      <th>3</th>\n",
              "      <td>icncj5</td>\n",
              "      <td>Man Accused Of Assaulting Sesame Place Worker ...</td>\n",
              "      <td>4302</td>\n",
              "      <td>news</td>\n",
              "      <td>http://levittownnow.com/2020/08/19/man-accused...</td>\n",
              "      <td>400</td>\n",
              "      <td></td>\n",
              "      <td>1.597871e+09</td>\n",
              "    </tr>\n",
              "    <tr>\n",
              "      <th>4</th>\n",
              "      <td>icu2tz</td>\n",
              "      <td>QAnon groups hit by Facebook crack down</td>\n",
              "      <td>1189</td>\n",
              "      <td>news</td>\n",
              "      <td>https://www.nbcnews.com/tech/tech-news/qanon-g...</td>\n",
              "      <td>310</td>\n",
              "      <td></td>\n",
              "      <td>1.597893e+09</td>\n",
              "    </tr>\n",
              "  </tbody>\n",
              "</table>\n",
              "</div>"
            ],
            "text/plain": [
              "       id                                              title  ...  text       created\n",
              "0  icq91v  Pennsylvania Among States To Sue Over Changes ...  ...        1.597881e+09\n",
              "1  icsg56  Mark Zuckerberg Is Despoiling a Tiny Coastal V...  ...        1.597888e+09\n",
              "2  icm712    New Mexico sues over US Postal Service changes.  ...        1.597867e+09\n",
              "3  icncj5  Man Accused Of Assaulting Sesame Place Worker ...  ...        1.597871e+09\n",
              "4  icu2tz            QAnon groups hit by Facebook crack down  ...        1.597893e+09\n",
              "\n",
              "[5 rows x 8 columns]"
            ]
          },
          "metadata": {
            "tags": []
          },
          "execution_count": 6
        }
      ]
    },
    {
      "cell_type": "code",
      "metadata": {
        "id": "Xu5hSlDW3G6y",
        "colab_type": "code",
        "colab": {
          "base_uri": "https://localhost:8080/",
          "height": 513
        },
        "outputId": "2f12db91-f2d9-4136-bd1b-228450907464"
      },
      "source": [
        "import requests\n",
        "from bs4 import BeautifulSoup\n",
        "import re\n",
        "# get the url of the reddit post\n",
        "for url in df['url']:\n",
        "  # get the HTML from the url\n",
        "  try:\n",
        "    r = requests.get(url, timeout=10)\n",
        "  except:\n",
        "    continue\n",
        "  soup = BeautifulSoup(r.text)\n",
        "  # get tags from metadata for the site\n",
        "  sitetags = set()\n",
        "  for meta in soup.find_all('meta'):\n",
        "    if meta is None:\n",
        "      continue\n",
        "    meta = str(meta)\n",
        "    meta = meta.lower()\n",
        "    meta = re.sub('[\\W_]+',' ', meta)\n",
        "    for tag in str(meta).split():\n",
        "      sitetags.add(tag)\n",
        "  tags_final = sitetags & tags\n",
        "  if tags_final:\n",
        "    # some matches found, print title and matched tags\n",
        "    print(soup.title.text.strip(), tags_final)"
      ],
      "execution_count": 8,
      "outputs": [
        {
          "output_type": "stream",
          "text": [
            "4 teens, including juvenile, arrested in connection with Raleigh girl’s murder outside Bojangles’ {'death'}\n",
            "UConn students evicted from dorms for holding pandemic party as schools grapple with COVID-19 crisis {'death'}\n",
            "Police searching for suspect who sucker-punched elderly sidewalk sweeper – Boston News, Weather, Sports | WHDH 7News {'punch'}\n",
            "Victims Want Golden State Killer Sent to Toughest  Prison – NBC 7 San Diego {'death'}\n",
            "Minneapolis officer's attorney alleges George Floyd overdosed on fentanyl, says charges should be dropped {'arrest', 'death'}\n",
            "'Should've ducked': Detention officer suspended over post on boy who was shot to death {'death'}\n",
            "Phoenix police investigating the death of a man in their custody - CNN {'death'}\n",
            "InfoWars’ Millie Weaver, boyfriend and brother threw mother to the ground and took her cellphone, police report says - cleveland.com {'arrest'}\n",
            "Rolling Blackouts in California Have Power Experts Stumped - The New York Times {'gas'}\n",
            "OPEC+ presses for compliance with oil cuts - Reuters {'gas'}\n",
            "Mississippi hotelier killed, group calls for justice - Asian Hospitality {'death'}\n",
            "California Expresses Frustration as Blackouts Enter 4th Day - The New York Times {'gas'}\n",
            "Police arrest 16-year-old in connection with Shop N Cart shooting | KELOLAND.com {'arrest', 'gas'}\n",
            "California Facing Largest Power Outages In Its History This Week – Deadline {'death', 'gas'}\n",
            "Protester's arrest leads to crowd forming at Pittsburgh mayor's home - Reuters {'arrest'}\n",
            "Death Valley reaches 130 degrees, hottest temperature in U.S. in at least 107 years - CBS News {'death'}\n",
            "Capital Murder Charge Filed in Death of Plano Jogger – NBC 5 Dallas-Fort Worth {'death'}\n",
            "Canada refuses to release emails with U.S. over Huawei exec's arrest - Reuters {'arrest'}\n",
            "U.S. coronavirus death toll hits 170,000 ahead of fall flu season - Reuters {'death'}\n",
            "Meteorologists working to confirm 130-degree Death Valley temp {'death'}\n",
            "Man arrested in connection with disappearance of young mother in Florida {'gas'}\n",
            "N.C. Court: Take Inmate Off Death Row After Racism at Trial | Time {'death'}\n",
            "‘He went above and beyond’: Vancouver overdose prevention site worker identified as homicide victim - BC | Globalnews.ca {'death'}\n",
            "InfoWars correspondent arrested on robbery, domestic violence charges in Portage County - cleveland.com {'arrest'}\n",
            "Factbox: Oil refiners shut plants as demand losses seen continuing - Reuters {'gas'}\n",
            "Don’t Shoot Portland seeks sanctions against city, challenging police ‘bull rushing,’ shoving and striking of protesters with batons - oregonlive.com {'gas'}\n",
            "Germans push to hold police accountable after global George Floyd protests {'death'}\n",
            "Japanese ship involved in Mauritius oil spill breaks apart - Reuters {'gas'}\n"
          ],
          "name": "stdout"
        }
      ]
    },
    {
      "cell_type": "code",
      "metadata": {
        "id": "gtECtipJWHS8",
        "colab_type": "code",
        "colab": {}
      },
      "source": [
        ""
      ],
      "execution_count": 5,
      "outputs": []
    }
  ]
}