{
 "cells": [
  {
   "cell_type": "code",
   "execution_count": 17,
   "metadata": {},
   "outputs": [],
   "source": [
    "import os\n",
    "import praw\n",
    "import pandas as pd\n",
    "\n",
    "from dotenv import load_dotenv\n",
    "\n",
    "load_dotenv()\n",
    "\n",
    "client = os.getenv('CLIENT_ID')\n",
    "secret = os.getenv('CLIENT_SECRET')\n",
    "agent = os.getenv('USERAGENT')\n",
    "username = os.getenv('USERNAME')"
   ]
  },
  {
   "cell_type": "code",
   "execution_count": 22,
   "metadata": {},
   "outputs": [],
   "source": [
    "reddit = praw.Reddit(client_id=client,\n",
    "                     client_secret=secret,\n",
    "                     user_agent=agent,\n",
    "                     username=username\n",
    ")"
   ]
  },
  {
   "cell_type": "code",
   "execution_count": 25,
   "metadata": {},
   "outputs": [
    {
     "name": "stdout",
     "output_type": "stream",
     "text": [
      "Chilean Police always follows Protocol\n",
      "Movement wins arrest of Texas cop who killed Jonathan Price\n",
      "An ex-cop explaining just how corrupt the police really are.\n",
      "Taylor PD swarms and assault a man after he pulls over.\n",
      "October 22, 2019. Canadian police beat me and called it justice. Dislocated my shoulder, now I need surgery. Goodbye trade jobs.\n",
      "Homeless guy is a human too, don't be like these people\n",
      "Article on a presentation given by Oxnard activists over the history of police brutality in the city\n",
      "Cop chose the wrong biker to assault\n",
      "Anybody notice that this story went away and the trial never happened?\n",
      "Billy Porter \"For What It's Worth\" - Black Lives Matter\n"
     ]
    }
   ],
   "source": [
    "data_raw = []\n",
    "\n",
    "for submission in reddit.subreddit(\"policebrutality\").new(limit=10):\n",
    "    print(submission.title)\n",
    "    data_raw.append([submission.id, submission.title, submission.selftext, submission.url])"
   ]
  },
  {
   "cell_type": "code",
   "execution_count": null,
   "metadata": {},
   "outputs": [],
   "source": []
  }
 ],
 "metadata": {
  "kernelspec": {
   "display_name": "HRF",
   "language": "python",
   "name": "hrf"
  },
  "language_info": {
   "codemirror_mode": {
    "name": "ipython",
    "version": 3
   },
   "file_extension": ".py",
   "mimetype": "text/x-python",
   "name": "python",
   "nbconvert_exporter": "python",
   "pygments_lexer": "ipython3",
   "version": "3.8.5"
  }
 },
 "nbformat": 4,
 "nbformat_minor": 4
}
