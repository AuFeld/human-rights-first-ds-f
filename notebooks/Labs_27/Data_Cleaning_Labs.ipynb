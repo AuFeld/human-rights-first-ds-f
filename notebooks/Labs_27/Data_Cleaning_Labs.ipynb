{
  "nbformat": 4,
  "nbformat_minor": 0,
  "metadata": {
    "colab": {
      "name": "Data_Cleaning_Labs.ipynb",
      "provenance": [],
      "collapsed_sections": []
    },
    "kernelspec": {
      "name": "python3",
      "display_name": "Python 3"
    }
  },
  "cells": [
    {
      "cell_type": "markdown",
      "metadata": {
        "id": "uHPOEGg9iaq5"
      },
      "source": [
        "This notebook will take the raw data for indianapolis and Orlando, and it will refine them into proper format for csv combination."
      ]
    },
    {
      "cell_type": "code",
      "metadata": {
        "id": "qrku5Kqgtt-o"
      },
      "source": [
        "# setting display options to help\n",
        "pd.options.display.max_rows = 500\n",
        "pd.options.display.max_columns = 500"
      ],
      "execution_count": 28,
      "outputs": []
    },
    {
      "cell_type": "code",
      "metadata": {
        "id": "wOLwYY_Vj7ZZ"
      },
      "source": [
        "# Proper Format is as Follows\n",
        "# Statistical data:\n",
        "# {\"data\": [\n",
        "# \"date\":\n",
        "# \"Incidents_number\":\n",
        "# \"lat\":\n",
        "# \"lon\":\n",
        "# \"lethal\": \n",
        "# \"Projectile\":\n",
        "# \"Race_victim\":\n",
        "# \"Race_police_officer\":\n",
        "# \"Victim_gender\":\n",
        "# \"police_officer_Gender\":\n",
        "# ]}"
      ],
      "execution_count": 12,
      "outputs": []
    },
    {
      "cell_type": "code",
      "metadata": {
        "id": "taIaGwZShe8Z"
      },
      "source": [
        "import pandas as pd\n",
        "import numpy as np"
      ],
      "execution_count": 9,
      "outputs": []
    },
    {
      "cell_type": "markdown",
      "metadata": {
        "id": "hHqmV4e1nkmb"
      },
      "source": [
        "## Indianapolis"
      ]
    },
    {
      "cell_type": "code",
      "metadata": {
        "id": "VmaSdJmeht7P"
      },
      "source": [
        "# Reading in the raw csv\n",
        "indi = pd.read_csv('https://github.com/Lambda-School-Labs/Labs27-D-HRF-DS/raw/feature/ds_jm/data/raw/Indianapolis.csv')"
      ],
      "execution_count": 10,
      "outputs": []
    },
    {
      "cell_type": "code",
      "metadata": {
        "id": "48Fzgz_9hxSX",
        "outputId": "1f23ff93-c341-4544-85f1-e06cb6b13930",
        "colab": {
          "base_uri": "https://localhost:8080/",
          "height": 428
        }
      },
      "source": [
        "# Many different columns. Going to follow the template provided.\n",
        "indi.head()"
      ],
      "execution_count": 11,
      "outputs": [
        {
          "output_type": "execute_result",
          "data": {
            "text/html": [
              "<div>\n",
              "<style scoped>\n",
              "    .dataframe tbody tr th:only-of-type {\n",
              "        vertical-align: middle;\n",
              "    }\n",
              "\n",
              "    .dataframe tbody tr th {\n",
              "        vertical-align: top;\n",
              "    }\n",
              "\n",
              "    .dataframe thead th {\n",
              "        text-align: right;\n",
              "    }\n",
              "</style>\n",
              "<table border=\"1\" class=\"dataframe\">\n",
              "  <thead>\n",
              "    <tr style=\"text-align: right;\">\n",
              "      <th></th>\n",
              "      <th>Unnamed: 0</th>\n",
              "      <th>id</th>\n",
              "      <th>occurredDate</th>\n",
              "      <th>division</th>\n",
              "      <th>district</th>\n",
              "      <th>shift</th>\n",
              "      <th>beat</th>\n",
              "      <th>useOfForceReason</th>\n",
              "      <th>officerForceType</th>\n",
              "      <th>disposition</th>\n",
              "      <th>serviceType</th>\n",
              "      <th>arrestMade</th>\n",
              "      <th>arrestCharges</th>\n",
              "      <th>residentInjured</th>\n",
              "      <th>residentHospitalized</th>\n",
              "      <th>residentCondition</th>\n",
              "      <th>officerInjured</th>\n",
              "      <th>officerHospitalized</th>\n",
              "      <th>officerCondition</th>\n",
              "      <th>residentRace</th>\n",
              "      <th>residentSex</th>\n",
              "      <th>residentAge</th>\n",
              "      <th>officerRace</th>\n",
              "      <th>officerSex</th>\n",
              "      <th>officerAge</th>\n",
              "      <th>officerYearsOfService</th>\n",
              "      <th>officerIdentifier</th>\n",
              "    </tr>\n",
              "  </thead>\n",
              "  <tbody>\n",
              "    <tr>\n",
              "      <th>0</th>\n",
              "      <td>0</td>\n",
              "      <td>9c7c088255e6080dceebafbae22df7eb</td>\n",
              "      <td>2014-08-23 00:00:00</td>\n",
              "      <td>Operations Division</td>\n",
              "      <td>Northwest District</td>\n",
              "      <td>NW Day Shift</td>\n",
              "      <td>NW Day Shift</td>\n",
              "      <td>Fleeing</td>\n",
              "      <td>Less Lethal-Taser</td>\n",
              "      <td>In compliance</td>\n",
              "      <td>Self-Initiated Activity</td>\n",
              "      <td>False</td>\n",
              "      <td>NaN</td>\n",
              "      <td>False</td>\n",
              "      <td>False</td>\n",
              "      <td>unknwon</td>\n",
              "      <td>False</td>\n",
              "      <td>False</td>\n",
              "      <td>No injuries noted or visible</td>\n",
              "      <td>Black</td>\n",
              "      <td>Male</td>\n",
              "      <td>NaN</td>\n",
              "      <td>White</td>\n",
              "      <td>Male</td>\n",
              "      <td>33.0</td>\n",
              "      <td>11.0</td>\n",
              "      <td>11342e9840a7b53dec8c039a6a53c129</td>\n",
              "    </tr>\n",
              "    <tr>\n",
              "      <th>1</th>\n",
              "      <td>1</td>\n",
              "      <td>670a17d1bc2593b64664b361760d73c5</td>\n",
              "      <td>2014-08-28 00:00:00</td>\n",
              "      <td>Operations Division</td>\n",
              "      <td>Southeast District</td>\n",
              "      <td>SE Middle Shift</td>\n",
              "      <td>NaN</td>\n",
              "      <td>Combative Suspect</td>\n",
              "      <td>Physical-Hands, Fist, Feet</td>\n",
              "      <td>In compliance</td>\n",
              "      <td>Arrest</td>\n",
              "      <td>True</td>\n",
              "      <td>NaN</td>\n",
              "      <td>False</td>\n",
              "      <td>False</td>\n",
              "      <td>NaN</td>\n",
              "      <td>False</td>\n",
              "      <td>False</td>\n",
              "      <td>No injuries noted or visible</td>\n",
              "      <td>White</td>\n",
              "      <td>Male</td>\n",
              "      <td>18.0</td>\n",
              "      <td>White</td>\n",
              "      <td>Male</td>\n",
              "      <td>37.0</td>\n",
              "      <td>13.0</td>\n",
              "      <td>547c246b80e932bf70340356c7e207e1</td>\n",
              "    </tr>\n",
              "    <tr>\n",
              "      <th>2</th>\n",
              "      <td>2</td>\n",
              "      <td>0dbfcea33161568591ee1bce0498b590</td>\n",
              "      <td>2014-08-23 00:00:00</td>\n",
              "      <td>Operations Division</td>\n",
              "      <td>North District</td>\n",
              "      <td>ND Late Tactical Shift</td>\n",
              "      <td>NaN</td>\n",
              "      <td>Resisting Arrest</td>\n",
              "      <td>Physical-Handcuffing</td>\n",
              "      <td>In compliance</td>\n",
              "      <td>Call For Service</td>\n",
              "      <td>True</td>\n",
              "      <td>Battery by Bodily Waste</td>\n",
              "      <td>True</td>\n",
              "      <td>True</td>\n",
              "      <td>Laceration</td>\n",
              "      <td>False</td>\n",
              "      <td>False</td>\n",
              "      <td>No injuries noted or visible</td>\n",
              "      <td>Black</td>\n",
              "      <td>Male</td>\n",
              "      <td>36.0</td>\n",
              "      <td>White</td>\n",
              "      <td>Male</td>\n",
              "      <td>29.0</td>\n",
              "      <td>4.0</td>\n",
              "      <td>a4555ab4905cda5e4a1430a69a0afdcd</td>\n",
              "    </tr>\n",
              "    <tr>\n",
              "      <th>3</th>\n",
              "      <td>3</td>\n",
              "      <td>2c556058ed11488c1badb2282f6e453c</td>\n",
              "      <td>2014-08-28 00:00:00</td>\n",
              "      <td>Homeland Security Division</td>\n",
              "      <td>Homeland Security Bureau/Tactical</td>\n",
              "      <td>Canine Section</td>\n",
              "      <td>Canine Unit - Late</td>\n",
              "      <td>Non-Compliant</td>\n",
              "      <td>Canine Bite</td>\n",
              "      <td>In compliance</td>\n",
              "      <td>Request For PSD</td>\n",
              "      <td>False</td>\n",
              "      <td>NaN</td>\n",
              "      <td>True</td>\n",
              "      <td>True</td>\n",
              "      <td>Canine Bite</td>\n",
              "      <td>False</td>\n",
              "      <td>False</td>\n",
              "      <td>NaN</td>\n",
              "      <td>Black</td>\n",
              "      <td>Male</td>\n",
              "      <td>40.0</td>\n",
              "      <td>White</td>\n",
              "      <td>Male</td>\n",
              "      <td>42.0</td>\n",
              "      <td>17.0</td>\n",
              "      <td>b1b813ded824994e6af194d0d7297470</td>\n",
              "    </tr>\n",
              "    <tr>\n",
              "      <th>4</th>\n",
              "      <td>4</td>\n",
              "      <td>f636c99ea09082c1275875903d027ad9</td>\n",
              "      <td>2014-08-24 00:00:00</td>\n",
              "      <td>Operations Division</td>\n",
              "      <td>Southwest District</td>\n",
              "      <td>SW Middle Shift</td>\n",
              "      <td>NaN</td>\n",
              "      <td>Combative Suspect</td>\n",
              "      <td>Physical-Handcuffing</td>\n",
              "      <td>In compliance</td>\n",
              "      <td>Arrest</td>\n",
              "      <td>True</td>\n",
              "      <td>NaN</td>\n",
              "      <td>True</td>\n",
              "      <td>True</td>\n",
              "      <td>Minor Bleeding</td>\n",
              "      <td>True</td>\n",
              "      <td>True</td>\n",
              "      <td>Internal Pain/Discomfort</td>\n",
              "      <td>White</td>\n",
              "      <td>Male</td>\n",
              "      <td>51.0</td>\n",
              "      <td>White</td>\n",
              "      <td>Male</td>\n",
              "      <td>34.0</td>\n",
              "      <td>10.0</td>\n",
              "      <td>d4ec041a3cb4e12c28af6794c1c62ebd</td>\n",
              "    </tr>\n",
              "  </tbody>\n",
              "</table>\n",
              "</div>"
            ],
            "text/plain": [
              "   Unnamed: 0  ...                 officerIdentifier\n",
              "0           0  ...  11342e9840a7b53dec8c039a6a53c129\n",
              "1           1  ...  547c246b80e932bf70340356c7e207e1\n",
              "2           2  ...  a4555ab4905cda5e4a1430a69a0afdcd\n",
              "3           3  ...  b1b813ded824994e6af194d0d7297470\n",
              "4           4  ...  d4ec041a3cb4e12c28af6794c1c62ebd\n",
              "\n",
              "[5 rows x 27 columns]"
            ]
          },
          "metadata": {
            "tags": []
          },
          "execution_count": 11
        }
      ]
    },
    {
      "cell_type": "code",
      "metadata": {
        "id": "afKUXWqLnzQX",
        "outputId": "d5b5f9ad-9479-4112-8a95-6845f33c6b8f",
        "colab": {
          "base_uri": "https://localhost:8080/",
          "height": 153
        }
      },
      "source": [
        "indi.columns"
      ],
      "execution_count": 14,
      "outputs": [
        {
          "output_type": "execute_result",
          "data": {
            "text/plain": [
              "Index(['Unnamed: 0', 'id', 'occurredDate', 'division', 'district', 'shift',\n",
              "       'beat', 'useOfForceReason', 'officerForceType', 'disposition',\n",
              "       'serviceType', 'arrestMade', 'arrestCharges', 'residentInjured',\n",
              "       'residentHospitalized', 'residentCondition', 'officerInjured',\n",
              "       'officerHospitalized', 'officerCondition', 'residentRace',\n",
              "       'residentSex', 'residentAge', 'officerRace', 'officerSex', 'officerAge',\n",
              "       'officerYearsOfService', 'officerIdentifier'],\n",
              "      dtype='object')"
            ]
          },
          "metadata": {
            "tags": []
          },
          "execution_count": 14
        }
      ]
    },
    {
      "cell_type": "code",
      "metadata": {
        "id": "TZ-OndeZoGpd"
      },
      "source": [
        "#Date\n",
        "indi['Date'] = pd.to_datetime(indi['occurredDate'])"
      ],
      "execution_count": 16,
      "outputs": []
    },
    {
      "cell_type": "code",
      "metadata": {
        "id": "QaCM6Yy4oj_h"
      },
      "source": [
        "# Incidents Number\n",
        "indi['Incidents Number'] = 1"
      ],
      "execution_count": 53,
      "outputs": []
    },
    {
      "cell_type": "code",
      "metadata": {
        "id": "3TEdvg6QokEU"
      },
      "source": [
        "# lat\n",
        "indi['lat'] = 39.7771"
      ],
      "execution_count": 17,
      "outputs": []
    },
    {
      "cell_type": "code",
      "metadata": {
        "id": "xWEHWLryokIk"
      },
      "source": [
        "# lon\n",
        "indi['lon'] = -86.1458"
      ],
      "execution_count": 18,
      "outputs": []
    },
    {
      "cell_type": "code",
      "metadata": {
        "id": "TiswQzt2okLj"
      },
      "source": [
        "# lethal\n",
        "indi['Lethalgun'] = (indi['officerForceType'] == 'Lethal-Handgun')\n",
        "indi['lethalv'] = (indi['officerForceType'] == 'Lethal-Vehicle')\n",
        "indi['Lethal'] = indi['Lethalgun'] + indi['lethalv']\n",
        "print(indi['Lethalgun'].value_counts())\n",
        "print(indi['lethalv'].value_counts())\n",
        "print(indi['Lethal'].value_counts())"
      ],
      "execution_count": null,
      "outputs": []
    },
    {
      "cell_type": "code",
      "metadata": {
        "id": "EKLBowDdokOk"
      },
      "source": [
        "# projectile\n",
        "indi['officerForceType'].value_counts()"
      ],
      "execution_count": null,
      "outputs": []
    },
    {
      "cell_type": "code",
      "metadata": {
        "id": "u-3_r62vokRT"
      },
      "source": [
        "# Race_victim\n",
        "indi['residentRace'].value_counts()"
      ],
      "execution_count": null,
      "outputs": []
    },
    {
      "cell_type": "code",
      "metadata": {
        "id": "mkZTOnvtokUE"
      },
      "source": [
        "# race_police_officer\n",
        "indi['officerRace'].value_counts()"
      ],
      "execution_count": null,
      "outputs": []
    },
    {
      "cell_type": "code",
      "metadata": {
        "id": "5sBEug2IokW0"
      },
      "source": [
        "# victim_gender\n",
        "indi['residentSex'].value_counts()"
      ],
      "execution_count": null,
      "outputs": []
    },
    {
      "cell_type": "code",
      "metadata": {
        "id": "rHYEGEovokdN"
      },
      "source": [
        "#police_officer_gender\n",
        "indi['officerSex'].value_counts()"
      ],
      "execution_count": null,
      "outputs": []
    },
    {
      "cell_type": "code",
      "metadata": {
        "id": "968tLsbTz5kv"
      },
      "source": [
        "columns_list = ['Date', 'lat', 'lon', 'Incidents Number', 'Lethal',\n",
        "                'officerForceType', 'residentRace', 'officerRace', 'residentSex', \n",
        "                'officerSex']"
      ],
      "execution_count": 56,
      "outputs": []
    },
    {
      "cell_type": "code",
      "metadata": {
        "id": "XDvjWgAPokf-"
      },
      "source": [
        "indi_new = indi[columns_list]"
      ],
      "execution_count": 57,
      "outputs": []
    },
    {
      "cell_type": "code",
      "metadata": {
        "id": "KM9tLB0a0hog"
      },
      "source": [
        "indi_new"
      ],
      "execution_count": null,
      "outputs": []
    },
    {
      "cell_type": "code",
      "metadata": {
        "id": "e3y0Npnw6pyQ"
      },
      "source": [
        "indi_new.to_csv('indi_cleaned.csv')"
      ],
      "execution_count": 86,
      "outputs": []
    },
    {
      "cell_type": "markdown",
      "metadata": {
        "id": "UUIQ2iwHngNT"
      },
      "source": [
        "## Orlando"
      ]
    },
    {
      "cell_type": "code",
      "metadata": {
        "id": "gfn_RKYVhyeV"
      },
      "source": [
        "orl = pd.read_csv('https://github.com/Lambda-School-Labs/Labs27-D-HRF-DS/raw/feature/ds_jm/data/raw/Orlando.csv')"
      ],
      "execution_count": 5,
      "outputs": []
    },
    {
      "cell_type": "code",
      "metadata": {
        "id": "AFiB2Puch-30",
        "outputId": "0ca3b847-436f-4775-aab5-3c3be53f3418",
        "colab": {
          "base_uri": "https://localhost:8080/",
          "height": 377
        }
      },
      "source": [
        "orl.head()"
      ],
      "execution_count": 7,
      "outputs": [
        {
          "output_type": "execute_result",
          "data": {
            "text/html": [
              "<div>\n",
              "<style scoped>\n",
              "    .dataframe tbody tr th:only-of-type {\n",
              "        vertical-align: middle;\n",
              "    }\n",
              "\n",
              "    .dataframe tbody tr th {\n",
              "        vertical-align: top;\n",
              "    }\n",
              "\n",
              "    .dataframe thead th {\n",
              "        text-align: right;\n",
              "    }\n",
              "</style>\n",
              "<table border=\"1\" class=\"dataframe\">\n",
              "  <thead>\n",
              "    <tr style=\"text-align: right;\">\n",
              "      <th></th>\n",
              "      <th>Incident Number</th>\n",
              "      <th>Incident Date Time</th>\n",
              "      <th>Incident Location</th>\n",
              "      <th>Officers Involved</th>\n",
              "      <th>Officers Race</th>\n",
              "      <th>Officers Ethnicity</th>\n",
              "      <th>Officers Sex</th>\n",
              "      <th>Officer Battered</th>\n",
              "      <th>Officer Injured</th>\n",
              "      <th>Officer Medical Treatment</th>\n",
              "      <th>Electronic Device Used</th>\n",
              "      <th>Chemical Agent Used</th>\n",
              "      <th>Tackle Take Down</th>\n",
              "      <th>Impact Weapons Used</th>\n",
              "      <th>Physical Strikes Made</th>\n",
              "      <th>Deflation Device Used</th>\n",
              "      <th>K9 Unit Involved</th>\n",
              "      <th>Offenders Involved</th>\n",
              "      <th>Offenders Race</th>\n",
              "      <th>Offenders Ethnicity</th>\n",
              "      <th>Offenders Sex</th>\n",
              "      <th>Offender Arrested</th>\n",
              "      <th>Offender Injured</th>\n",
              "      <th>Offender Medical Treatment</th>\n",
              "      <th>Witnesses Involved</th>\n",
              "      <th>Status</th>\n",
              "      <th>Location</th>\n",
              "    </tr>\n",
              "  </thead>\n",
              "  <tbody>\n",
              "    <tr>\n",
              "      <th>0</th>\n",
              "      <td>2018-00079161</td>\n",
              "      <td>02/25/2018 10:23:00 PM</td>\n",
              "      <td>26TH / 15 LAWSONA BLV</td>\n",
              "      <td>1.0</td>\n",
              "      <td>W</td>\n",
              "      <td>NH</td>\n",
              "      <td>M</td>\n",
              "      <td>Yes</td>\n",
              "      <td>No</td>\n",
              "      <td>No</td>\n",
              "      <td>No</td>\n",
              "      <td>No</td>\n",
              "      <td>No</td>\n",
              "      <td>No</td>\n",
              "      <td>Yes</td>\n",
              "      <td>No</td>\n",
              "      <td>Yes</td>\n",
              "      <td>1.0</td>\n",
              "      <td>W</td>\n",
              "      <td>NH</td>\n",
              "      <td>M</td>\n",
              "      <td>Felony</td>\n",
              "      <td>Yes</td>\n",
              "      <td>Yes</td>\n",
              "      <td>0.0</td>\n",
              "      <td>Unmapped</td>\n",
              "      <td>NaN</td>\n",
              "    </tr>\n",
              "    <tr>\n",
              "      <th>1</th>\n",
              "      <td>2013-00544482</td>\n",
              "      <td>12/29/2013 11:02:00 PM</td>\n",
              "      <td>NaN</td>\n",
              "      <td>1.0</td>\n",
              "      <td>B</td>\n",
              "      <td>NH</td>\n",
              "      <td>M</td>\n",
              "      <td>No</td>\n",
              "      <td>No</td>\n",
              "      <td>No</td>\n",
              "      <td>No</td>\n",
              "      <td>Yes</td>\n",
              "      <td>No</td>\n",
              "      <td>No</td>\n",
              "      <td>No</td>\n",
              "      <td>No</td>\n",
              "      <td>No</td>\n",
              "      <td>0.0</td>\n",
              "      <td>U</td>\n",
              "      <td>NH</td>\n",
              "      <td>U</td>\n",
              "      <td>Not Arrested</td>\n",
              "      <td>No</td>\n",
              "      <td>No</td>\n",
              "      <td>0.0</td>\n",
              "      <td>Unmapped</td>\n",
              "      <td>NaN</td>\n",
              "    </tr>\n",
              "    <tr>\n",
              "      <th>2</th>\n",
              "      <td>2018-00478744</td>\n",
              "      <td>12/14/2018 08:17:00 AM</td>\n",
              "      <td>9200 Block of AIRPORT BV</td>\n",
              "      <td>1.0</td>\n",
              "      <td>W</td>\n",
              "      <td>NH</td>\n",
              "      <td>M</td>\n",
              "      <td>No</td>\n",
              "      <td>No</td>\n",
              "      <td>No</td>\n",
              "      <td>No</td>\n",
              "      <td>Yes</td>\n",
              "      <td>No</td>\n",
              "      <td>No</td>\n",
              "      <td>No</td>\n",
              "      <td>No</td>\n",
              "      <td>No</td>\n",
              "      <td>1.0</td>\n",
              "      <td>B</td>\n",
              "      <td>NH</td>\n",
              "      <td>M</td>\n",
              "      <td>Felony</td>\n",
              "      <td>No</td>\n",
              "      <td>No</td>\n",
              "      <td>0.0</td>\n",
              "      <td>Mapped</td>\n",
              "      <td>(28.43097505, -81.31134146)</td>\n",
              "    </tr>\n",
              "    <tr>\n",
              "      <th>3</th>\n",
              "      <td>2017-00316840</td>\n",
              "      <td>08/14/2017 01:50:00 AM</td>\n",
              "      <td>EW WBO / LONG ST</td>\n",
              "      <td>3.0</td>\n",
              "      <td>W;W;W</td>\n",
              "      <td>NH;NH;NH</td>\n",
              "      <td>M;M;M</td>\n",
              "      <td>No</td>\n",
              "      <td>No</td>\n",
              "      <td>No</td>\n",
              "      <td>Yes</td>\n",
              "      <td>No</td>\n",
              "      <td>No</td>\n",
              "      <td>No</td>\n",
              "      <td>Yes</td>\n",
              "      <td>No</td>\n",
              "      <td>No</td>\n",
              "      <td>1.0</td>\n",
              "      <td>B</td>\n",
              "      <td>NH</td>\n",
              "      <td>M</td>\n",
              "      <td>Misdemeanor</td>\n",
              "      <td>No</td>\n",
              "      <td>No</td>\n",
              "      <td>0.0</td>\n",
              "      <td>U</td>\n",
              "      <td>NaN</td>\n",
              "    </tr>\n",
              "    <tr>\n",
              "      <th>4</th>\n",
              "      <td>IncidentNumber</td>\n",
              "      <td>NaN</td>\n",
              "      <td>IncidentLocation</td>\n",
              "      <td>NaN</td>\n",
              "      <td>OfficersRace</td>\n",
              "      <td>OfficersEthnicity</td>\n",
              "      <td>OfficersSex</td>\n",
              "      <td>OfficerBattered</td>\n",
              "      <td>OfficerInjured</td>\n",
              "      <td>OfficerMedicalTreatment</td>\n",
              "      <td>ElectronicDeviceUsed</td>\n",
              "      <td>ChemicalAgentUsed</td>\n",
              "      <td>TackleTakeDown</td>\n",
              "      <td>ImpactWeaponsUsed</td>\n",
              "      <td>PhysicalStrikesMade</td>\n",
              "      <td>DeflationDeviceUsed</td>\n",
              "      <td>K9UnitInvolved</td>\n",
              "      <td>NaN</td>\n",
              "      <td>OffendersRace</td>\n",
              "      <td>OffendersEthnicity</td>\n",
              "      <td>OffendersSex</td>\n",
              "      <td>OffenderArrested</td>\n",
              "      <td>OffenderInjured</td>\n",
              "      <td>OffenderMedicalTreatment</td>\n",
              "      <td>NaN</td>\n",
              "      <td>Status</td>\n",
              "      <td>NaN</td>\n",
              "    </tr>\n",
              "  </tbody>\n",
              "</table>\n",
              "</div>"
            ],
            "text/plain": [
              "  Incident Number  ...                     Location\n",
              "0   2018-00079161  ...                          NaN\n",
              "1   2013-00544482  ...                          NaN\n",
              "2   2018-00478744  ...  (28.43097505, -81.31134146)\n",
              "3   2017-00316840  ...                          NaN\n",
              "4  IncidentNumber  ...                          NaN\n",
              "\n",
              "[5 rows x 27 columns]"
            ]
          },
          "metadata": {
            "tags": []
          },
          "execution_count": 7
        }
      ]
    },
    {
      "cell_type": "code",
      "metadata": {
        "id": "KKyrWAc63oZo",
        "outputId": "2018cdf6-3c9a-426e-dc73-72e420b3691a",
        "colab": {
          "base_uri": "https://localhost:8080/",
          "height": 204
        }
      },
      "source": [
        "# Statistical data:\n",
        "# {\"data\": [\n",
        "# \"date\":\n",
        "# \"Incidents_number\":\n",
        "# \"lat\":\n",
        "# \"lon\":\n",
        "# \"lethal\": \n",
        "# \"Projectile\":\n",
        "# \"Race_victim\":\n",
        "# \"Race_police_officer\":\n",
        "# \"Victim_gender\":\n",
        "# \"police_officer_Gender\":\n",
        "# ]}\n",
        "orl.columns"
      ],
      "execution_count": 62,
      "outputs": [
        {
          "output_type": "execute_result",
          "data": {
            "text/plain": [
              "Index(['Incident Number', 'Incident Date Time', 'Incident Location',\n",
              "       'Officers Involved', 'Officers Race', 'Officers Ethnicity',\n",
              "       'Officers Sex', 'Officer Battered', 'Officer Injured',\n",
              "       'Officer Medical Treatment', 'Electronic Device Used',\n",
              "       'Chemical Agent Used', 'Tackle Take Down', 'Impact Weapons Used',\n",
              "       'Physical Strikes Made', 'Deflation Device Used', 'K9 Unit Involved',\n",
              "       'Offenders Involved', 'Offenders Race', 'Offenders Ethnicity',\n",
              "       'Offenders Sex', 'Offender Arrested', 'Offender Injured',\n",
              "       'Offender Medical Treatment', 'Witnesses Involved', 'Status',\n",
              "       'Location', 'Date'],\n",
              "      dtype='object')"
            ]
          },
          "metadata": {
            "tags": []
          },
          "execution_count": 62
        }
      ]
    },
    {
      "cell_type": "code",
      "metadata": {
        "id": "Jqi8L4ZmiIay"
      },
      "source": [
        "cols_list_orl = ['Date', 'Incidents Number', 'lat', 'lon', 'Incident Number',]"
      ],
      "execution_count": 59,
      "outputs": []
    },
    {
      "cell_type": "code",
      "metadata": {
        "id": "aGTEDe7z3d5F"
      },
      "source": [
        "# Date\n",
        "orl['Date'] = pd.to_datetime(orl['Incident Date Time'])"
      ],
      "execution_count": 61,
      "outputs": []
    },
    {
      "cell_type": "code",
      "metadata": {
        "id": "i6IMbDHR36Tz"
      },
      "source": [
        "# incidents number\n",
        "orl['Incidents Number'"
      ],
      "execution_count": null,
      "outputs": []
    },
    {
      "cell_type": "code",
      "metadata": {
        "id": "7iW3d4oY3fN1"
      },
      "source": [
        "# lat\n",
        "orl['lat'] = 28.4772"
      ],
      "execution_count": 80,
      "outputs": []
    },
    {
      "cell_type": "code",
      "metadata": {
        "id": "BpBIXWs53fhV"
      },
      "source": [
        " # lon\n",
        " orl['lon'] = -81.3369"
      ],
      "execution_count": 81,
      "outputs": []
    },
    {
      "cell_type": "code",
      "metadata": {
        "id": "h62oItll3fqt",
        "outputId": "f4aec161-7c5f-43fd-c876-f2858ce70a69",
        "colab": {
          "base_uri": "https://localhost:8080/",
          "height": 85
        }
      },
      "source": [
        "#lethal\n",
        "orl['Offender Medical Treatment'].value_counts()"
      ],
      "execution_count": 85,
      "outputs": [
        {
          "output_type": "execute_result",
          "data": {
            "text/plain": [
              "No                          3619\n",
              "Yes                         2037\n",
              "OffenderMedicalTreatment       2\n",
              "Name: Offender Medical Treatment, dtype: int64"
            ]
          },
          "metadata": {
            "tags": []
          },
          "execution_count": 85
        }
      ]
    },
    {
      "cell_type": "code",
      "metadata": {
        "id": "gODrHqER3fyo"
      },
      "source": [
        "#Projectile"
      ],
      "execution_count": null,
      "outputs": []
    },
    {
      "cell_type": "code",
      "metadata": {
        "id": "HL0It0f63f4k"
      },
      "source": [
        "#Race_victim\n",
        "orl['Offenders Race'].value_counts()"
      ],
      "execution_count": null,
      "outputs": []
    },
    {
      "cell_type": "code",
      "metadata": {
        "id": "R49wpb3e3f_0"
      },
      "source": [
        "#race_police_officer\n",
        "orl['Officers Race'].value_counts()"
      ],
      "execution_count": null,
      "outputs": []
    },
    {
      "cell_type": "code",
      "metadata": {
        "id": "RwHw1Xit3gFh"
      },
      "source": [
        "#victim_gender\n",
        "orl['Offenders Sex'].value_counts()"
      ],
      "execution_count": null,
      "outputs": []
    },
    {
      "cell_type": "code",
      "metadata": {
        "id": "IF9mW6yz3gNe",
        "outputId": "4b882014-f2e6-4c75-e430-2675fbf6d49b",
        "colab": {
          "base_uri": "https://localhost:8080/",
          "height": 1000
        }
      },
      "source": [
        "#police_officer_gender\n",
        "orl['Officers Sex'].value_counts()"
      ],
      "execution_count": 92,
      "outputs": [
        {
          "output_type": "execute_result",
          "data": {
            "text/plain": [
              "M;M                2086\n",
              "M                  1857\n",
              "M;M;M               617\n",
              "M;F                 259\n",
              "M;M;M;M             217\n",
              "F;M                 106\n",
              "F                    77\n",
              "M;M;F                63\n",
              "M;F;M                57\n",
              "M;M;M;M;M            46\n",
              "F;M;M                34\n",
              "M;M;M;F              27\n",
              "M;M;F;M              25\n",
              "M;M;M;M;M;M          23\n",
              "F;F                  23\n",
              "M;F;F                16\n",
              "F;M;M;M              11\n",
              "M;F;M;M              10\n",
              "F;F;M                 9\n",
              "F;M;M;M;M             9\n",
              "M;M;M;F;M             8\n",
              "M;M;M;M;F             7\n",
              "F;F;M;M               6\n",
              "M;M;M;M;M;M;M;M       5\n",
              "M;M;M;M;M;M;M         5\n",
              "M;M;F;M;M             4\n",
              "M;M;F;F               4\n",
              "M;F;M;M;M             4\n",
              "M;F;M;F               4\n",
              "M;M;M;F;M;M           3\n",
              "M;F;F;M               3\n",
              "F;M;F                 2\n",
              "OfficersSex           2\n",
              "M;M;F;M;M;M           2\n",
              "F;M;F;M               2\n",
              "M;F;M;M;F             1\n",
              "M;F;M;F;M             1\n",
              "M;M;F;M;M;M;M         1\n",
              "F;M;M;F               1\n",
              "M;F;M;F;M;M;M         1\n",
              "M;M;M;M;F;M           1\n",
              "M;M;M;M;M;F;M         1\n",
              "M;M;F;M;M;M;F;M       1\n",
              "F;M;F;M;F             1\n",
              "F;F;F                 1\n",
              "M;M;M;M;M;M;F;M       1\n",
              "F;F;M;M;M             1\n",
              "M;F;M;M;M;M           1\n",
              "M;M;M;M;M;F;M;M       1\n",
              "M;M;M;F;F             1\n",
              "F;M;M;M;M;M           1\n",
              "M;M;F;M;F             1\n",
              "M;M;F;U               1\n",
              "M;M;M;M;F;M;M;M       1\n",
              "M;F;M;M;M;M;M         1\n",
              "F;M;F;M;M;M           1\n",
              "M;M;M;F;M;M;M         1\n",
              "M;M;M;M;F;M;M         1\n",
              "F;M;M;F;M             1\n",
              "F;M;F;M;M             1\n",
              "Name: Officers Sex, dtype: int64"
            ]
          },
          "metadata": {
            "tags": []
          },
          "execution_count": 92
        }
      ]
    },
    {
      "cell_type": "code",
      "metadata": {
        "id": "PfJ4GL0y-D76"
      },
      "source": [
        ""
      ],
      "execution_count": null,
      "outputs": []
    }
  ]
}