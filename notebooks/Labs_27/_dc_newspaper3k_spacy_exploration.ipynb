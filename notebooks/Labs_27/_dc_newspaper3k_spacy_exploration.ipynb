{
  "nbformat": 4,
  "nbformat_minor": 0,
  "metadata": {
    "colab": {
      "name": "_dc_newspaper3k_spacy_exploration.ipynb",
      "provenance": [],
      "collapsed_sections": []
    },
    "kernelspec": {
      "name": "python3",
      "display_name": "Python 3"
    }
  },
  "cells": [
    {
      "cell_type": "markdown",
      "metadata": {
        "id": "IfjjK_EcyNfl"
      },
      "source": [
        "## Install modules"
      ]
    },
    {
      "cell_type": "code",
      "metadata": {
        "id": "GfMYp7uc6qmz",
        "outputId": "0b4fa85c-db95-4a0b-a380-cc2705f3bd45",
        "colab": {
          "base_uri": "https://localhost:8080/",
          "height": 544
        }
      },
      "source": [
        "!pip install praw\n",
        "!pip3 install newspaper3k"
      ],
      "execution_count": 4,
      "outputs": [
        {
          "output_type": "stream",
          "text": [
            "Requirement already satisfied: praw in /usr/local/lib/python3.6/dist-packages (7.1.0)\n",
            "Requirement already satisfied: websocket-client>=0.54.0 in /usr/local/lib/python3.6/dist-packages (from praw) (0.57.0)\n",
            "Requirement already satisfied: update-checker>=0.17 in /usr/local/lib/python3.6/dist-packages (from praw) (0.18.0)\n",
            "Requirement already satisfied: prawcore<2.0,>=1.3.0 in /usr/local/lib/python3.6/dist-packages (from praw) (1.5.0)\n",
            "Requirement already satisfied: six in /usr/local/lib/python3.6/dist-packages (from websocket-client>=0.54.0->praw) (1.15.0)\n",
            "Requirement already satisfied: requests>=2.3.0 in /usr/local/lib/python3.6/dist-packages (from update-checker>=0.17->praw) (2.23.0)\n",
            "Requirement already satisfied: certifi>=2017.4.17 in /usr/local/lib/python3.6/dist-packages (from requests>=2.3.0->update-checker>=0.17->praw) (2020.6.20)\n",
            "Requirement already satisfied: chardet<4,>=3.0.2 in /usr/local/lib/python3.6/dist-packages (from requests>=2.3.0->update-checker>=0.17->praw) (3.0.4)\n",
            "Requirement already satisfied: idna<3,>=2.5 in /usr/local/lib/python3.6/dist-packages (from requests>=2.3.0->update-checker>=0.17->praw) (2.10)\n",
            "Requirement already satisfied: urllib3!=1.25.0,!=1.25.1,<1.26,>=1.21.1 in /usr/local/lib/python3.6/dist-packages (from requests>=2.3.0->update-checker>=0.17->praw) (1.24.3)\n",
            "Requirement already satisfied: newspaper3k in /usr/local/lib/python3.6/dist-packages (0.2.8)\n",
            "Requirement already satisfied: feedparser>=5.2.1 in /usr/local/lib/python3.6/dist-packages (from newspaper3k) (6.0.1)\n",
            "Requirement already satisfied: requests>=2.10.0 in /usr/local/lib/python3.6/dist-packages (from newspaper3k) (2.23.0)\n",
            "Requirement already satisfied: nltk>=3.2.1 in /usr/local/lib/python3.6/dist-packages (from newspaper3k) (3.2.5)\n",
            "Requirement already satisfied: feedfinder2>=0.0.4 in /usr/local/lib/python3.6/dist-packages (from newspaper3k) (0.0.4)\n",
            "Requirement already satisfied: cssselect>=0.9.2 in /usr/local/lib/python3.6/dist-packages (from newspaper3k) (1.1.0)\n",
            "Requirement already satisfied: python-dateutil>=2.5.3 in /usr/local/lib/python3.6/dist-packages (from newspaper3k) (2.8.1)\n",
            "Requirement already satisfied: Pillow>=3.3.0 in /usr/local/lib/python3.6/dist-packages (from newspaper3k) (7.0.0)\n",
            "Requirement already satisfied: tinysegmenter==0.3 in /usr/local/lib/python3.6/dist-packages (from newspaper3k) (0.3)\n",
            "Requirement already satisfied: PyYAML>=3.11 in /usr/local/lib/python3.6/dist-packages (from newspaper3k) (3.13)\n",
            "Requirement already satisfied: lxml>=3.6.0 in /usr/local/lib/python3.6/dist-packages (from newspaper3k) (4.2.6)\n",
            "Requirement already satisfied: tldextract>=2.0.1 in /usr/local/lib/python3.6/dist-packages (from newspaper3k) (2.2.3)\n",
            "Requirement already satisfied: beautifulsoup4>=4.4.1 in /usr/local/lib/python3.6/dist-packages (from newspaper3k) (4.6.3)\n",
            "Requirement already satisfied: jieba3k>=0.35.1 in /usr/local/lib/python3.6/dist-packages (from newspaper3k) (0.35.1)\n",
            "Requirement already satisfied: sgmllib3k in /usr/local/lib/python3.6/dist-packages (from feedparser>=5.2.1->newspaper3k) (1.0.0)\n",
            "Requirement already satisfied: idna<3,>=2.5 in /usr/local/lib/python3.6/dist-packages (from requests>=2.10.0->newspaper3k) (2.10)\n",
            "Requirement already satisfied: certifi>=2017.4.17 in /usr/local/lib/python3.6/dist-packages (from requests>=2.10.0->newspaper3k) (2020.6.20)\n",
            "Requirement already satisfied: urllib3!=1.25.0,!=1.25.1,<1.26,>=1.21.1 in /usr/local/lib/python3.6/dist-packages (from requests>=2.10.0->newspaper3k) (1.24.3)\n",
            "Requirement already satisfied: chardet<4,>=3.0.2 in /usr/local/lib/python3.6/dist-packages (from requests>=2.10.0->newspaper3k) (3.0.4)\n",
            "Requirement already satisfied: six in /usr/local/lib/python3.6/dist-packages (from nltk>=3.2.1->newspaper3k) (1.15.0)\n",
            "Requirement already satisfied: requests-file>=1.4 in /usr/local/lib/python3.6/dist-packages (from tldextract>=2.0.1->newspaper3k) (1.5.1)\n"
          ],
          "name": "stdout"
        }
      ]
    },
    {
      "cell_type": "markdown",
      "metadata": {
        "id": "bO3zprDpyT0w"
      },
      "source": [
        "## Import functions and grabbing reddit data"
      ]
    },
    {
      "cell_type": "code",
      "metadata": {
        "id": "PEuGLNHa7s_i",
        "outputId": "17b3b38a-3011-4ebb-e423-1025afd4b0ec",
        "colab": {
          "base_uri": "https://localhost:8080/",
          "height": 68
        }
      },
      "source": [
        "import praw\n",
        "import pandas as pd\n",
        "import requests\n",
        "from bs4 import BeautifulSoup\n",
        "import re\n",
        "from newspaper import Article\n",
        "import nltk\n",
        "nltk.download('punkt')\n",
        "# Reddit credentials, password stored in .env \n",
        "# PRAW setup goes here"
      ],
      "execution_count": 5,
      "outputs": [
        {
          "output_type": "stream",
          "text": [
            "[nltk_data] Downloading package punkt to /root/nltk_data...\n",
            "[nltk_data]   Package punkt is already up-to-date!\n"
          ],
          "name": "stdout"
        },
        {
          "output_type": "execute_result",
          "data": {
            "text/plain": [
              "True"
            ]
          },
          "metadata": {
            "tags": []
          },
          "execution_count": 5
        }
      ]
    },
    {
      "cell_type": "code",
      "metadata": {
        "id": "awWKoH66yqzF"
      },
      "source": [
        "# here is a read only reddit scraper object. This can be used to scan and scrape stories.\n",
        "# the parameters below must be provided for the scraper to work.\n",
        "# This is what will be used to pull stories from the reddit's online forum.\n",
        "reddit = praw.Reddit(client_id='D1NQHCUDKQg3TA',\n",
        "                     client_secret='GJn8WpYkFXi5CREeEdwKCiRZz4w',\n",
        "                     user_agent=\"windows:reddit:v1(david_cruz_0202)\",\n",
        "                     username=\"david_cruz_0202\")\n",
        "\n",
        "# The reddit API doesn't require developer credentials for a read only API\n",
        "# which is what we're doing. So there are no passwords being held."
      ],
      "execution_count": 6,
      "outputs": []
    },
    {
      "cell_type": "code",
      "metadata": {
        "id": "Ml43DtIn_jJ9",
        "outputId": "b0ab90b8-891e-4c0d-f6fb-e4c97bbcc943",
        "colab": {
          "base_uri": "https://localhost:8080/",
          "height": 204
        }
      },
      "source": [
        "# Grabbing 100 hottest posts on Reddit at the moment. Will filter for police use of force later\n",
        "\n",
        "data = []\n",
        "\n",
        "# other possible subreddits: publicfreakout, allcopnodonut\n",
        "for submission in reddit.subreddit(\"news\").hot(limit=100):\n",
        "  data.append([submission.id, submission.title, submission.url])\n",
        "\n",
        "# We'll need a way to get coordinates for a given post, before we include that in df\n",
        "col_names = ['id', 'title', 'url']\n",
        "df = pd.DataFrame(data, columns=col_names)\n",
        "\n",
        "df.head()"
      ],
      "execution_count": 7,
      "outputs": [
        {
          "output_type": "execute_result",
          "data": {
            "text/html": [
              "<div>\n",
              "<style scoped>\n",
              "    .dataframe tbody tr th:only-of-type {\n",
              "        vertical-align: middle;\n",
              "    }\n",
              "\n",
              "    .dataframe tbody tr th {\n",
              "        vertical-align: top;\n",
              "    }\n",
              "\n",
              "    .dataframe thead th {\n",
              "        text-align: right;\n",
              "    }\n",
              "</style>\n",
              "<table border=\"1\" class=\"dataframe\">\n",
              "  <thead>\n",
              "    <tr style=\"text-align: right;\">\n",
              "      <th></th>\n",
              "      <th>id</th>\n",
              "      <th>title</th>\n",
              "      <th>url</th>\n",
              "    </tr>\n",
              "  </thead>\n",
              "  <tbody>\n",
              "    <tr>\n",
              "      <th>0</th>\n",
              "      <td>jb2ujn</td>\n",
              "      <td>Bronze statue of Ruth Bader Ginsburg to be unv...</td>\n",
              "      <td>https://abcnews.go.com/US/bronze-statue-ruth-b...</td>\n",
              "    </tr>\n",
              "    <tr>\n",
              "      <th>1</th>\n",
              "      <td>jb1llg</td>\n",
              "      <td>Amy Cooper Made 2nd 911 Call to Falsely Accuse...</td>\n",
              "      <td>https://www.nytimes.com/2020/10/14/nyregion/am...</td>\n",
              "    </tr>\n",
              "    <tr>\n",
              "      <th>2</th>\n",
              "      <td>jayojh</td>\n",
              "      <td>Mexico identifies two women who may have recei...</td>\n",
              "      <td>https://edition.cnn.com/2020/10/13/world/mexic...</td>\n",
              "    </tr>\n",
              "    <tr>\n",
              "      <th>3</th>\n",
              "      <td>jb0ssy</td>\n",
              "      <td>YouTube bans coronavirus vaccine misinformation</td>\n",
              "      <td>https://www.reuters.com/article/us-health-coro...</td>\n",
              "    </tr>\n",
              "    <tr>\n",
              "      <th>4</th>\n",
              "      <td>jb3b4e</td>\n",
              "      <td>White Michigan man accused of attacking Black ...</td>\n",
              "      <td>https://www.nbcnews.com/news/us-news/white-mic...</td>\n",
              "    </tr>\n",
              "  </tbody>\n",
              "</table>\n",
              "</div>"
            ],
            "text/plain": [
              "       id  ...                                                url\n",
              "0  jb2ujn  ...  https://abcnews.go.com/US/bronze-statue-ruth-b...\n",
              "1  jb1llg  ...  https://www.nytimes.com/2020/10/14/nyregion/am...\n",
              "2  jayojh  ...  https://edition.cnn.com/2020/10/13/world/mexic...\n",
              "3  jb0ssy  ...  https://www.reuters.com/article/us-health-coro...\n",
              "4  jb3b4e  ...  https://www.nbcnews.com/news/us-news/white-mic...\n",
              "\n",
              "[5 rows x 3 columns]"
            ]
          },
          "metadata": {
            "tags": []
          },
          "execution_count": 7
        }
      ]
    },
    {
      "cell_type": "markdown",
      "metadata": {
        "id": "I8dWtaCpyfmz"
      },
      "source": [
        "## Deprecated tag based filtering system"
      ]
    },
    {
      "cell_type": "code",
      "metadata": {
        "id": "D8qgYIkMkmnN",
        "outputId": "92b4aec8-89ee-47ce-fbe2-785eaf833ac0",
        "colab": {
          "base_uri": "https://localhost:8080/",
          "height": 71
        }
      },
      "source": [
        "# set up some sort of corpus of keywords to snag specific reddit entries\n",
        "all_locs = pd.read_json('https://raw.githubusercontent.com/2020PB/police-brutality/data_build/all-locations-v2.json')\n",
        "all_locs = pd.json_normalize(all_locs['data'])\n",
        "all_locs = all_locs.drop(columns=['edit_at','id'])\n",
        "def cleanlinks(json):\n",
        "    links_out = []\n",
        "    for link in json:\n",
        "        links_out.append(link['url'])\n",
        "    return links_out\n",
        "all_locs['links'] = all_locs['links'].apply(cleanlinks)\n",
        "all_locs['date'] = pd.to_datetime(all_locs['date'],format='%Y-%m-%d')\n",
        "all_tags = all_locs['tags'].copy()\n",
        "tags = set()\n",
        "for taglist in all_tags:\n",
        "  for tag in taglist:\n",
        "    if tag not in tags:\n",
        "      tags.add(tag)\n",
        "# manually remove needless tags\n",
        "print(tags)\n",
        "tags.discard('')\n",
        "tags.discard('medic')\n",
        "tags.discard('bike')\n",
        "tags.discard('non-protest')\n",
        "tags.discard('pregnant')\n",
        "tags.discard('lgbtq+')\n",
        "tags.discard('racial-profiling')\n",
        "tags.discard('legal-observer')\n",
        "tags.discard('tear-gas-canister')\n",
        "tags.discard('politician')\n",
        "tags.discard('incitement')\n",
        "tags.discard('homeless')\n",
        "tags.discard('shoot')\n",
        "tags.discard('strike')\n",
        "tags.discard('elderly')\n",
        "tags.discard('vehicle')\n",
        "tags.discard('inhumane-treatment')\n",
        "tags.discard('journalist')\n",
        "tags.discard('throw')\n",
        "tags.discard('explosive')\n",
        "tags.discard('threaten')\n",
        "tags.discard('horse')\n",
        "tags.discard('shove')\n",
        "tags.discard('child')\n",
        "tags.discard('shield')\n",
        "tags.discard('dog')\n",
        "tags.discard('knee')\n",
        "tags.discard('protester')\n",
        "tags.discard('gun')\n",
        "tags.discard('conceal')\n",
        "tags.discard('bystander')\n",
        "tags.discard('grab')\n",
        "tags.discard('push')\n",
        "tags.discard('zip-tie')\n",
        "tags.discard('spray')\n",
        "tags.discard('drive')\n",
        "tags.discard('person-with-disability')\n",
        "tags.discard('celebrity')\n",
        "tags.discard('projectile')\n",
        "tags.discard('beat')\n",
        "newtags = set()\n",
        "for tag in tags:\n",
        "  tag = newtags.add(tag.replace('-',' '))\n",
        "tags = newtags\n",
        "print(tags)"
      ],
      "execution_count": 8,
      "outputs": [
        {
          "output_type": "stream",
          "text": [
            "{'', 'pregnant', 'journalist', 'inhumane-treatment', 'marking-round', 'choke', 'drive', 'foam-bullet', 'tear-gas-canister', 'shoot', 'live-round', 'knee', 'hide-badge', 'medic', 'threaten', 'celebrity', 'homeless', 'arrest', 'knee-on-neck', 'lrad', 'shove', 'sexual-assault', 'taser', 'shield', 'pepper-spray', 'elderly', 'abuse-of-power', 'gas', 'tase', 'push', 'racial-profiling', 'beat', 'spray', 'pepper-ball', 'non-protest', 'conceal', 'grab', 'kick', 'property-destruction', 'zip-tie', 'rubber-bullet', 'bike', 'lgbtq+', 'dog', 'politician', 'punch', 'bystander', 'tackle', 'headlock', 'tear-gas', 'strike', 'person-with-disability', 'bean-bag', 'mace', 'baton', 'incitement', 'child', 'throw', 'less-lethal', 'explosive', 'horse', 'vehicle', 'legal-observer', 'body-cam', 'death', 'gun', 'stun-grenade', 'projectile', 'protester', 'wooden-bullet'}\n",
            "{'wooden bullet', 'live round', 'hide badge', 'choke', 'abuse of power', 'body cam', 'arrest', 'lrad', 'rubber bullet', 'taser', 'pepper spray', 'foam bullet', 'gas', 'tase', 'less lethal', 'kick', 'pepper ball', 'bean bag', 'punch', 'tackle', 'headlock', 'property destruction', 'marking round', 'mace', 'baton', 'death', 'stun grenade', 'sexual assault', 'tear gas', 'knee on neck'}\n"
          ],
          "name": "stdout"
        }
      ]
    },
    {
      "cell_type": "code",
      "metadata": {
        "id": "Xu5hSlDW3G6y",
        "outputId": "7f6ff9be-e159-45a2-a1be-4cd14b03bad5",
        "colab": {
          "base_uri": "https://localhost:8080/",
          "height": 187
        }
      },
      "source": [
        "# get the url of the reddit post\n",
        "for url in df['url']:\n",
        "  # get the HTML from the url\n",
        "  try:\n",
        "    r = requests.get(url, timeout=10)\n",
        "  except:\n",
        "    continue\n",
        "  soup = BeautifulSoup(r.text)\n",
        "  # get tags from metadata for the site\n",
        "  sitetags = set()\n",
        "  for meta in soup.find_all('meta'):\n",
        "    if meta is None:\n",
        "      continue\n",
        "    meta = str(meta)\n",
        "    meta = meta.lower()\n",
        "    meta = re.sub('[\\W_]+',' ', meta)\n",
        "    for tag in str(meta).split():\n",
        "      sitetags.add(tag)\n",
        "  tags_final = sitetags & tags\n",
        "  if tags_final:\n",
        "    # some matches found, print title and matched tags\n",
        "    print(soup.title.text.strip(), tags_final)"
      ],
      "execution_count": 9,
      "outputs": [
        {
          "output_type": "stream",
          "text": [
            "Gretchen Whitmer: Sheriff spoke in defense of accused domestic terrorists - CNN {'arrest'}\n",
            "Dutch woman dies after catching COVID-19 twice, the first reported reinfection death | CTV News {'death'}\n",
            "Fairview mayor resigns following Target shoplifting arrest {'arrest'}\n",
            "Mario Molina, 77, Dies; Sounded an Alarm on the Ozone Layer - The New York Times {'gas'}\n",
            "Tennessee man charged in beating death of 2-year-old boy {'death'}\n",
            "Researchers find elevated radiation near U.S. fracking sites | Reuters {'gas'}\n",
            "Conchata Ferrell Dead: ‘Two and a Half Men’ Co-Star, ‘L.A. Law Was 77 – Deadline {'arrest'}\n",
            "West Virginia babysitter convicted in 2018 death of toddler {'death'}\n",
            "Dutch government backs euthanasia for under-12s | World news | The Guardian {'death'}\n",
            "Philippines: Anger over death of baby separated from jailed mother - BBC News {'death'}\n"
          ],
          "name": "stdout"
        }
      ]
    },
    {
      "cell_type": "markdown",
      "metadata": {
        "id": "ZzoCjoYEyxI3"
      },
      "source": [
        "## Old `requests` based text grabbing function"
      ]
    },
    {
      "cell_type": "code",
      "metadata": {
        "id": "gtECtipJWHS8",
        "outputId": "82bd3d18-68b8-4b0e-8376-a0d5c6956ff4",
        "colab": {
          "base_uri": "https://localhost:8080/",
          "height": 221
        }
      },
      "source": [
        "# Test grabbing the contents of the articles themselves to imporve spaCy NLP\n",
        "# get the url of the reddit post\n",
        "content_list = []\n",
        "df_snip = df['url']\n",
        "for id_url in df_snip:\n",
        "  # get the HTML from the url\n",
        "  try:\n",
        "    r = requests.get(id_url, timeout=10)\n",
        "  except:\n",
        "    content_list.append('')\n",
        "    continue\n",
        "  soup = BeautifulSoup(r.text)\n",
        "  # get text from website\n",
        "  output_text = \" \".join([x.text for x in soup.find_all('p')])\n",
        "  output_text = re.sub(\"[^a-zA-Z0-9.,']+\", ' ', output_text).strip()\n",
        "  content_list.append(output_text)\n",
        "\n",
        "print(df.shape, len(content_list))\n",
        "df['text'] = content_list\n",
        "df = df[df['text'] != '']\n",
        "df.head()"
      ],
      "execution_count": 10,
      "outputs": [
        {
          "output_type": "stream",
          "text": [
            "(100, 3) 100\n"
          ],
          "name": "stdout"
        },
        {
          "output_type": "execute_result",
          "data": {
            "text/html": [
              "<div>\n",
              "<style scoped>\n",
              "    .dataframe tbody tr th:only-of-type {\n",
              "        vertical-align: middle;\n",
              "    }\n",
              "\n",
              "    .dataframe tbody tr th {\n",
              "        vertical-align: top;\n",
              "    }\n",
              "\n",
              "    .dataframe thead th {\n",
              "        text-align: right;\n",
              "    }\n",
              "</style>\n",
              "<table border=\"1\" class=\"dataframe\">\n",
              "  <thead>\n",
              "    <tr style=\"text-align: right;\">\n",
              "      <th></th>\n",
              "      <th>id</th>\n",
              "      <th>title</th>\n",
              "      <th>url</th>\n",
              "      <th>text</th>\n",
              "    </tr>\n",
              "  </thead>\n",
              "  <tbody>\n",
              "    <tr>\n",
              "      <th>0</th>\n",
              "      <td>jb2ujn</td>\n",
              "      <td>Bronze statue of Ruth Bader Ginsburg to be unv...</td>\n",
              "      <td>https://abcnews.go.com/US/bronze-statue-ruth-b...</td>\n",
              "      <td>A bronze statue of hometown legend Supreme Cou...</td>\n",
              "    </tr>\n",
              "    <tr>\n",
              "      <th>1</th>\n",
              "      <td>jb1llg</td>\n",
              "      <td>Amy Cooper Made 2nd 911 Call to Falsely Accuse...</td>\n",
              "      <td>https://www.nytimes.com/2020/10/14/nyregion/am...</td>\n",
              "      <td>Advertisement Supported by Prosecutors said Ms...</td>\n",
              "    </tr>\n",
              "    <tr>\n",
              "      <th>2</th>\n",
              "      <td>jayojh</td>\n",
              "      <td>Mexico identifies two women who may have recei...</td>\n",
              "      <td>https://edition.cnn.com/2020/10/13/world/mexic...</td>\n",
              "      <td>By Natalie Gall n, CNN Updated 0155 GMT 0955 H...</td>\n",
              "    </tr>\n",
              "    <tr>\n",
              "      <th>3</th>\n",
              "      <td>jb0ssy</td>\n",
              "      <td>YouTube bans coronavirus vaccine misinformation</td>\n",
              "      <td>https://www.reuters.com/article/us-health-coro...</td>\n",
              "      <td>Discover Thomson Reuters By Elizabeth Cullifor...</td>\n",
              "    </tr>\n",
              "    <tr>\n",
              "      <th>4</th>\n",
              "      <td>jb3b4e</td>\n",
              "      <td>White Michigan man accused of attacking Black ...</td>\n",
              "      <td>https://www.nbcnews.com/news/us-news/white-mic...</td>\n",
              "      <td>Sections TV Featured More from NBC Follow NBC ...</td>\n",
              "    </tr>\n",
              "  </tbody>\n",
              "</table>\n",
              "</div>"
            ],
            "text/plain": [
              "       id  ...                                               text\n",
              "0  jb2ujn  ...  A bronze statue of hometown legend Supreme Cou...\n",
              "1  jb1llg  ...  Advertisement Supported by Prosecutors said Ms...\n",
              "2  jayojh  ...  By Natalie Gall n, CNN Updated 0155 GMT 0955 H...\n",
              "3  jb0ssy  ...  Discover Thomson Reuters By Elizabeth Cullifor...\n",
              "4  jb3b4e  ...  Sections TV Featured More from NBC Follow NBC ...\n",
              "\n",
              "[5 rows x 4 columns]"
            ]
          },
          "metadata": {
            "tags": []
          },
          "execution_count": 10
        }
      ]
    },
    {
      "cell_type": "markdown",
      "metadata": {
        "id": "ftcMBTf6y-4r"
      },
      "source": [
        "## New `newspaper3k` based text extraction system"
      ]
    },
    {
      "cell_type": "code",
      "metadata": {
        "id": "68IbV-_nzGX3"
      },
      "source": [
        "# set up future columns\n",
        "content_list = []\n",
        "date_list = []\n",
        "tokens_list = []\n",
        "df_snip = df['url']\n",
        "# go through each URL and use newspaper3k to extract data\n",
        "for id_url in df_snip:\n",
        "  # use newspaper3k to extract text\n",
        "  article = Article(id_url)\n",
        "  article.download()\n",
        "  # if the article doesn't download, the error is thrown in parse()\n",
        "  try:\n",
        "    article.parse()\n",
        "  except:\n",
        "    # add null values to show no connection\n",
        "    content_list.append(None)\n",
        "    date_list.append(None)\n",
        "    continue\n",
        "  content_list.append(article.text)\n",
        "  # this will be null if newspaper3k can't find it\n",
        "  date_list.append(article.publish_date)\n",
        "df['text'] = content_list\n",
        "df['date'] = date_list"
      ],
      "execution_count": 11,
      "outputs": []
    },
    {
      "cell_type": "code",
      "metadata": {
        "id": "vTGb0g8-rgpn",
        "outputId": "40f615ca-267e-46dc-c5f5-92cde8441b22",
        "colab": {
          "base_uri": "https://localhost:8080/",
          "height": 221
        }
      },
      "source": [
        "# show results\n",
        "print(df.shape)\n",
        "df.head()"
      ],
      "execution_count": 12,
      "outputs": [
        {
          "output_type": "stream",
          "text": [
            "(98, 5)\n"
          ],
          "name": "stdout"
        },
        {
          "output_type": "execute_result",
          "data": {
            "text/html": [
              "<div>\n",
              "<style scoped>\n",
              "    .dataframe tbody tr th:only-of-type {\n",
              "        vertical-align: middle;\n",
              "    }\n",
              "\n",
              "    .dataframe tbody tr th {\n",
              "        vertical-align: top;\n",
              "    }\n",
              "\n",
              "    .dataframe thead th {\n",
              "        text-align: right;\n",
              "    }\n",
              "</style>\n",
              "<table border=\"1\" class=\"dataframe\">\n",
              "  <thead>\n",
              "    <tr style=\"text-align: right;\">\n",
              "      <th></th>\n",
              "      <th>id</th>\n",
              "      <th>title</th>\n",
              "      <th>url</th>\n",
              "      <th>text</th>\n",
              "      <th>date</th>\n",
              "    </tr>\n",
              "  </thead>\n",
              "  <tbody>\n",
              "    <tr>\n",
              "      <th>0</th>\n",
              "      <td>jb2ujn</td>\n",
              "      <td>Bronze statue of Ruth Bader Ginsburg to be unv...</td>\n",
              "      <td>https://abcnews.go.com/US/bronze-statue-ruth-b...</td>\n",
              "      <td>Bronze statue of Ruth Bader Ginsburg to be unv...</td>\n",
              "      <td>None</td>\n",
              "    </tr>\n",
              "    <tr>\n",
              "      <th>1</th>\n",
              "      <td>jb1llg</td>\n",
              "      <td>Amy Cooper Made 2nd 911 Call to Falsely Accuse...</td>\n",
              "      <td>https://www.nytimes.com/2020/10/14/nyregion/am...</td>\n",
              "      <td>Amy Cooper, the white woman who called the pol...</td>\n",
              "      <td>2020-10-14 00:00:00</td>\n",
              "    </tr>\n",
              "    <tr>\n",
              "      <th>2</th>\n",
              "      <td>jayojh</td>\n",
              "      <td>Mexico identifies two women who may have recei...</td>\n",
              "      <td>https://edition.cnn.com/2020/10/13/world/mexic...</td>\n",
              "      <td>Mexico City (CNN) Mexico has identified two wo...</td>\n",
              "      <td>2020-10-13 00:00:00</td>\n",
              "    </tr>\n",
              "    <tr>\n",
              "      <th>3</th>\n",
              "      <td>jb0ssy</td>\n",
              "      <td>YouTube bans coronavirus vaccine misinformation</td>\n",
              "      <td>https://www.reuters.com/article/us-health-coro...</td>\n",
              "      <td>(Reuters) - Alphabet Inc’s YouTube said on Wed...</td>\n",
              "      <td>2020-10-14 13:52:25+00:00</td>\n",
              "    </tr>\n",
              "    <tr>\n",
              "      <th>4</th>\n",
              "      <td>jb3b4e</td>\n",
              "      <td>White Michigan man accused of attacking Black ...</td>\n",
              "      <td>https://www.nbcnews.com/news/us-news/white-mic...</td>\n",
              "      <td>A white man in Michigan faces a federal hate c...</td>\n",
              "      <td>2020-10-14 17:42:38+00:00</td>\n",
              "    </tr>\n",
              "  </tbody>\n",
              "</table>\n",
              "</div>"
            ],
            "text/plain": [
              "       id  ...                       date\n",
              "0  jb2ujn  ...                       None\n",
              "1  jb1llg  ...        2020-10-14 00:00:00\n",
              "2  jayojh  ...        2020-10-13 00:00:00\n",
              "3  jb0ssy  ...  2020-10-14 13:52:25+00:00\n",
              "4  jb3b4e  ...  2020-10-14 17:42:38+00:00\n",
              "\n",
              "[5 rows x 5 columns]"
            ]
          },
          "metadata": {
            "tags": []
          },
          "execution_count": 12
        }
      ]
    },
    {
      "cell_type": "code",
      "metadata": {
        "id": "Ek1JUmDSrp4X",
        "outputId": "b68132c8-6b04-4d7d-d4ed-fd7aef03190f",
        "colab": {
          "base_uri": "https://localhost:8080/",
          "height": 119
        }
      },
      "source": [
        "# show losses\n",
        "df.isnull().sum()"
      ],
      "execution_count": 13,
      "outputs": [
        {
          "output_type": "execute_result",
          "data": {
            "text/plain": [
              "id        0\n",
              "title     0\n",
              "url       0\n",
              "text      1\n",
              "date     36\n",
              "dtype: int64"
            ]
          },
          "metadata": {
            "tags": []
          },
          "execution_count": 13
        }
      ]
    },
    {
      "cell_type": "code",
      "metadata": {
        "id": "I_9xY3gI1mTp",
        "outputId": "00be4983-7be2-4b04-ce21-9cb38d961332",
        "colab": {
          "base_uri": "https://localhost:8080/",
          "height": 221
        }
      },
      "source": [
        "# Remove all entries with missing data\n",
        "df = df.dropna()\n",
        "print(df.shape)\n",
        "df = df.reset_index()\n",
        "df = df.drop(columns='index')\n",
        "df.head()"
      ],
      "execution_count": 14,
      "outputs": [
        {
          "output_type": "stream",
          "text": [
            "(62, 5)\n"
          ],
          "name": "stdout"
        },
        {
          "output_type": "execute_result",
          "data": {
            "text/html": [
              "<div>\n",
              "<style scoped>\n",
              "    .dataframe tbody tr th:only-of-type {\n",
              "        vertical-align: middle;\n",
              "    }\n",
              "\n",
              "    .dataframe tbody tr th {\n",
              "        vertical-align: top;\n",
              "    }\n",
              "\n",
              "    .dataframe thead th {\n",
              "        text-align: right;\n",
              "    }\n",
              "</style>\n",
              "<table border=\"1\" class=\"dataframe\">\n",
              "  <thead>\n",
              "    <tr style=\"text-align: right;\">\n",
              "      <th></th>\n",
              "      <th>id</th>\n",
              "      <th>title</th>\n",
              "      <th>url</th>\n",
              "      <th>text</th>\n",
              "      <th>date</th>\n",
              "    </tr>\n",
              "  </thead>\n",
              "  <tbody>\n",
              "    <tr>\n",
              "      <th>0</th>\n",
              "      <td>jb1llg</td>\n",
              "      <td>Amy Cooper Made 2nd 911 Call to Falsely Accuse...</td>\n",
              "      <td>https://www.nytimes.com/2020/10/14/nyregion/am...</td>\n",
              "      <td>Amy Cooper, the white woman who called the pol...</td>\n",
              "      <td>2020-10-14 00:00:00</td>\n",
              "    </tr>\n",
              "    <tr>\n",
              "      <th>1</th>\n",
              "      <td>jayojh</td>\n",
              "      <td>Mexico identifies two women who may have recei...</td>\n",
              "      <td>https://edition.cnn.com/2020/10/13/world/mexic...</td>\n",
              "      <td>Mexico City (CNN) Mexico has identified two wo...</td>\n",
              "      <td>2020-10-13 00:00:00</td>\n",
              "    </tr>\n",
              "    <tr>\n",
              "      <th>2</th>\n",
              "      <td>jb0ssy</td>\n",
              "      <td>YouTube bans coronavirus vaccine misinformation</td>\n",
              "      <td>https://www.reuters.com/article/us-health-coro...</td>\n",
              "      <td>(Reuters) - Alphabet Inc’s YouTube said on Wed...</td>\n",
              "      <td>2020-10-14 13:52:25+00:00</td>\n",
              "    </tr>\n",
              "    <tr>\n",
              "      <th>3</th>\n",
              "      <td>jb3b4e</td>\n",
              "      <td>White Michigan man accused of attacking Black ...</td>\n",
              "      <td>https://www.nbcnews.com/news/us-news/white-mic...</td>\n",
              "      <td>A white man in Michigan faces a federal hate c...</td>\n",
              "      <td>2020-10-14 17:42:38+00:00</td>\n",
              "    </tr>\n",
              "    <tr>\n",
              "      <th>4</th>\n",
              "      <td>jazda1</td>\n",
              "      <td>Sheriff spoke in defense of accused domestic t...</td>\n",
              "      <td>https://www.cnn.com/2020/10/14/us/michigan-she...</td>\n",
              "      <td>Grand Rapids, Michigan (CNN) On May 18, the FB...</td>\n",
              "      <td>2020-10-14 00:00:00</td>\n",
              "    </tr>\n",
              "  </tbody>\n",
              "</table>\n",
              "</div>"
            ],
            "text/plain": [
              "       id  ...                       date\n",
              "0  jb1llg  ...        2020-10-14 00:00:00\n",
              "1  jayojh  ...        2020-10-13 00:00:00\n",
              "2  jb0ssy  ...  2020-10-14 13:52:25+00:00\n",
              "3  jb3b4e  ...  2020-10-14 17:42:38+00:00\n",
              "4  jazda1  ...        2020-10-14 00:00:00\n",
              "\n",
              "[5 rows x 5 columns]"
            ]
          },
          "metadata": {
            "tags": []
          },
          "execution_count": 14
        }
      ]
    },
    {
      "cell_type": "markdown",
      "metadata": {
        "id": "nRJh6q170sjQ"
      },
      "source": [
        "## Gather location information"
      ]
    },
    {
      "cell_type": "code",
      "metadata": {
        "id": "7ESpojRIn4OX",
        "outputId": "8d2fcdcc-ea13-44a9-ff4d-45e545de1fcf",
        "colab": {
          "base_uri": "https://localhost:8080/",
          "height": 204
        }
      },
      "source": [
        "locs_df = pd.read_csv('cities_states.csv')\n",
        "def lowerify(text):\n",
        "  return text.lower()\n",
        "locs_df = locs_df.drop(columns=['Unnamed: 0','country'])\n",
        "locs_df['city_ascii'] = locs_df['city_ascii'].apply(lowerify)\n",
        "locs_df['admin_name'] = locs_df['admin_name'].apply(lowerify)\n",
        "locs_df.head()"
      ],
      "execution_count": 16,
      "outputs": [
        {
          "output_type": "execute_result",
          "data": {
            "text/html": [
              "<div>\n",
              "<style scoped>\n",
              "    .dataframe tbody tr th:only-of-type {\n",
              "        vertical-align: middle;\n",
              "    }\n",
              "\n",
              "    .dataframe tbody tr th {\n",
              "        vertical-align: top;\n",
              "    }\n",
              "\n",
              "    .dataframe thead th {\n",
              "        text-align: right;\n",
              "    }\n",
              "</style>\n",
              "<table border=\"1\" class=\"dataframe\">\n",
              "  <thead>\n",
              "    <tr style=\"text-align: right;\">\n",
              "      <th></th>\n",
              "      <th>city_ascii</th>\n",
              "      <th>admin_name</th>\n",
              "      <th>lat</th>\n",
              "      <th>lng</th>\n",
              "    </tr>\n",
              "  </thead>\n",
              "  <tbody>\n",
              "    <tr>\n",
              "      <th>0</th>\n",
              "      <td>new york</td>\n",
              "      <td>new york</td>\n",
              "      <td>40.6943</td>\n",
              "      <td>-73.9249</td>\n",
              "    </tr>\n",
              "    <tr>\n",
              "      <th>1</th>\n",
              "      <td>los angeles</td>\n",
              "      <td>california</td>\n",
              "      <td>34.1139</td>\n",
              "      <td>-118.4068</td>\n",
              "    </tr>\n",
              "    <tr>\n",
              "      <th>2</th>\n",
              "      <td>chicago</td>\n",
              "      <td>illinois</td>\n",
              "      <td>41.8373</td>\n",
              "      <td>-87.6862</td>\n",
              "    </tr>\n",
              "    <tr>\n",
              "      <th>3</th>\n",
              "      <td>miami</td>\n",
              "      <td>florida</td>\n",
              "      <td>25.7839</td>\n",
              "      <td>-80.2102</td>\n",
              "    </tr>\n",
              "    <tr>\n",
              "      <th>4</th>\n",
              "      <td>dallas</td>\n",
              "      <td>texas</td>\n",
              "      <td>32.7936</td>\n",
              "      <td>-96.7662</td>\n",
              "    </tr>\n",
              "  </tbody>\n",
              "</table>\n",
              "</div>"
            ],
            "text/plain": [
              "    city_ascii  admin_name      lat       lng\n",
              "0     new york    new york  40.6943  -73.9249\n",
              "1  los angeles  california  34.1139 -118.4068\n",
              "2      chicago    illinois  41.8373  -87.6862\n",
              "3        miami     florida  25.7839  -80.2102\n",
              "4       dallas       texas  32.7936  -96.7662"
            ]
          },
          "metadata": {
            "tags": []
          },
          "execution_count": 16
        }
      ]
    },
    {
      "cell_type": "markdown",
      "metadata": {
        "id": "Li27pVEO0yot"
      },
      "source": [
        "## Old `collections` based approach"
      ]
    },
    {
      "cell_type": "code",
      "metadata": {
        "id": "baUxsAfguUx6",
        "outputId": "645fc7df-0724-4836-b2b8-d3033609b711",
        "colab": {
          "base_uri": "https://localhost:8080/",
          "height": 105
        }
      },
      "source": [
        "from collections import Counter\n",
        "import re\n",
        "\n",
        "\n",
        "# get list of states\n",
        "states_list = list(locs_df.admin_name.unique())\n",
        "states_map = {}\n",
        "# for each state, map their respective cities\n",
        "for state in states_list:\n",
        "  states_map[state] = locs_df[locs_df['admin_name'] == state]['city_ascii'].to_list()\n",
        "\n",
        "# get a list of tokens from the text\n",
        "test_tokens = re.sub('[\\W]+',' ',df['text'][3]).lower().split()\n",
        "\n",
        "# put the tokens into a Counter\n",
        "c = Counter(test_tokens)\n",
        "\n",
        "# Check, for each state, which ones come back with a value of more than one\n",
        "state_counts = {}\n",
        "for state in states_list:\n",
        "  if c[state] > 0:\n",
        "    state_counts[state] = c[state]\n",
        "\n",
        "print(test_tokens[:20])\n",
        "print(state_counts)\n",
        "\n",
        "city_max = max(state_counts, key=state_counts.get)\n",
        "city_counts = {}\n",
        "for city in states_map[city_max]:\n",
        "  if c[city] > 0:\n",
        "    city_counts[city] = c[city]\n",
        "\n",
        "print(states_map[city_max])\n",
        "print(city_counts)"
      ],
      "execution_count": 17,
      "outputs": [
        {
          "output_type": "stream",
          "text": [
            "['a', 'white', 'man', 'in', 'michigan', 'faces', 'a', 'federal', 'hate', 'crime', 'charge', 'for', 'allegedly', 'attacking', 'a', 'black', 'teenager', 'with', 'a', 'bike']\n",
            "{'michigan': 2}\n",
            "['detroit', 'grand rapids', 'flint', 'ann arbor', 'lansing', 'kalamazoo', 'muskegon', 'warren', 'sterling heights', 'south lyon', 'saginaw', 'holland', 'lincoln park', 'eastpointe', 'oak park', 'hamtramck', 'hazel park', 'berkley', 'harper woods', 'clawson', 'dearborn', 'livonia', 'jackson', 'port huron', 'troy', 'westland', 'farmington hills', 'battle creek', 'wyoming', 'rochester hills', 'southfield', 'bay city', 'taylor', 'benton harbor', 'pontiac', 'novi', 'st. clair shores', 'midland', 'royal oak', 'dearborn heights', 'kentwood', 'traverse city', 'monroe', 'east lansing', 'portage', 'roseville', 'adrian', 'mount pleasant', 'madison heights', 'southgate', 'burton', 'forest hills', 'allen park', 'garden city', 'marquette', 'wyandotte', 'holt', 'walker', 'waverly', 'norton shores', 'inkster', 'romulus', 'auburn hills', 'okemos', 'owosso', 'birmingham', 'ypsilanti', 'escanaba', 'allendale', 'ferndale', 'haslett', 'iron mountain', 'trenton', 'jenison', 'wayne', 'coldwater', 'mount clemens', 'alma', 'grandville', 'houghton', 'cutlerville', 'grosse pointe woods', 'northview', 'fraser', 'ionia', 'big rapids', 'wixom', 'alpena', 'lapeer', 'rochester', 'sturgis', 'charlotte', 'sault ste. marie', 'woodhaven', 'new baltimore', 'ishpeming', 'riverview', 'otsego', 'cadillac', 'east grand rapids', 'hillsdale', 'fenton', 'niles', 'grosse pointe park', 'grand haven', 'highland park', 'muskegon heights', 'ludington', 'whitehall', 'three rivers', 'farmington', 'beverly hills', 'melvindale', 'comstock park', 'flat rock', 'marysville', 'greenville', 'howell', 'beecher', 'manistee', 'westwood', 'lambertville', 'saline', 'ecorse', 'grosse pointe farms', 'plymouth', 'albion', 'temperance', 'st. johns', 'mason', 'paw paw', 'gaylord', 'tecumseh', 'st. joseph', 'holly', 'petoskey', 'center line', 'menominee', 'flushing', 'grand blanc', 'grand ledge', 'milan', 'hastings', 'brighton', 'marshall', 'river rouge', 'lowell', 'fair plain', 'hudsonville', 'st. louis', 'freeland', 'walled lake', 'laurium', 'berrien springs', 'whitmore lake', 'byron center', 'ironwood', 'milford', 'bridgeport', 'williamston', 'allegan', 'richmond', 'huntington woods', 'buena vista', 'rockford', 'south monroe', 'northville', 'shields', 'comstock northwest', 'dowagiac', 'goodrich', 'belding', 'eastwood', 'south haven', 'chelsea', 'zeeland', 'swartz creek', 'clare', 'eaton rapids', 'st. clair', 'lake fenton', 'frankenmuth', 'springfield', 'grosse pointe', 'portland']\n",
            "{'detroit': 3, 'monroe': 1}\n"
          ],
          "name": "stdout"
        }
      ]
    },
    {
      "cell_type": "markdown",
      "metadata": {
        "id": "75MuOKN203J2"
      },
      "source": [
        "## New `spacy` based location extraction method"
      ]
    },
    {
      "cell_type": "code",
      "metadata": {
        "id": "K2qsY-aB3_UT"
      },
      "source": [
        "import spacy\n",
        "\n",
        "\n",
        "# prep spacy\n",
        "nlp = spacy.load('en_core_web_sm')\n",
        "# for each article, perform NLP on its text\n",
        "tokens_list = []\n",
        "for text in df['text']:\n",
        "  doc = nlp(text)\n",
        "\n",
        "  ents = [(e.text, e.label_) for e in doc.ents if e.label_ == 'GPE']\n",
        "  tokens_list.append(ents)\n",
        "\n",
        "df['tokens'] = tokens_list"
      ],
      "execution_count": 18,
      "outputs": []
    },
    {
      "cell_type": "code",
      "metadata": {
        "id": "Wb_8Rr3l5tIM",
        "outputId": "9f4c360d-0ccf-4401-8754-ff18ee99bdab",
        "colab": {
          "base_uri": "https://localhost:8080/",
          "height": 221
        }
      },
      "source": [
        "# what's the results?\n",
        "df['tokens']"
      ],
      "execution_count": 20,
      "outputs": [
        {
          "output_type": "execute_result",
          "data": {
            "text/plain": [
              "0                                    [(Manhattan, GPE)]\n",
              "1     [(Mexico City, GPE), (Mexico, GPE), (Ocilla, G...\n",
              "2                                                    []\n",
              "3     [(Michigan, GPE), (Michigan, GPE), (Mouat, GPE...\n",
              "4     [(Grand Rapids, GPE), (Michigan, GPE), (Michig...\n",
              "                            ...                        \n",
              "57                                                   []\n",
              "58    [(Arizona, GPE), (Vietnam, GPE), (Washington, ...\n",
              "59    [(Baikonur, GPE), (Kazakhstan, GPE), (Russia, ...\n",
              "60    [(Armenia, GPE), (Azerbaijan, GPE), (Turkey, G...\n",
              "61    [(Kingston, GPE), (Kingston, GPE), (City, GPE)...\n",
              "Name: tokens, Length: 62, dtype: object"
            ]
          },
          "metadata": {
            "tags": []
          },
          "execution_count": 20
        }
      ]
    },
    {
      "cell_type": "code",
      "metadata": {
        "id": "Fi1ehOn36jon",
        "outputId": "919ac0a9-9fe4-4e93-a002-cccb2a5d81a1",
        "colab": {
          "base_uri": "https://localhost:8080/",
          "height": 419
        }
      },
      "source": [
        "df.dropna()"
      ],
      "execution_count": 21,
      "outputs": [
        {
          "output_type": "execute_result",
          "data": {
            "text/html": [
              "<div>\n",
              "<style scoped>\n",
              "    .dataframe tbody tr th:only-of-type {\n",
              "        vertical-align: middle;\n",
              "    }\n",
              "\n",
              "    .dataframe tbody tr th {\n",
              "        vertical-align: top;\n",
              "    }\n",
              "\n",
              "    .dataframe thead th {\n",
              "        text-align: right;\n",
              "    }\n",
              "</style>\n",
              "<table border=\"1\" class=\"dataframe\">\n",
              "  <thead>\n",
              "    <tr style=\"text-align: right;\">\n",
              "      <th></th>\n",
              "      <th>id</th>\n",
              "      <th>title</th>\n",
              "      <th>url</th>\n",
              "      <th>text</th>\n",
              "      <th>date</th>\n",
              "      <th>tokens</th>\n",
              "    </tr>\n",
              "  </thead>\n",
              "  <tbody>\n",
              "    <tr>\n",
              "      <th>0</th>\n",
              "      <td>jb1llg</td>\n",
              "      <td>Amy Cooper Made 2nd 911 Call to Falsely Accuse...</td>\n",
              "      <td>https://www.nytimes.com/2020/10/14/nyregion/am...</td>\n",
              "      <td>Amy Cooper, the white woman who called the pol...</td>\n",
              "      <td>2020-10-14 00:00:00</td>\n",
              "      <td>[(Manhattan, GPE)]</td>\n",
              "    </tr>\n",
              "    <tr>\n",
              "      <th>1</th>\n",
              "      <td>jayojh</td>\n",
              "      <td>Mexico identifies two women who may have recei...</td>\n",
              "      <td>https://edition.cnn.com/2020/10/13/world/mexic...</td>\n",
              "      <td>Mexico City (CNN) Mexico has identified two wo...</td>\n",
              "      <td>2020-10-13 00:00:00</td>\n",
              "      <td>[(Mexico City, GPE), (Mexico, GPE), (Ocilla, G...</td>\n",
              "    </tr>\n",
              "    <tr>\n",
              "      <th>2</th>\n",
              "      <td>jb0ssy</td>\n",
              "      <td>YouTube bans coronavirus vaccine misinformation</td>\n",
              "      <td>https://www.reuters.com/article/us-health-coro...</td>\n",
              "      <td>(Reuters) - Alphabet Inc’s YouTube said on Wed...</td>\n",
              "      <td>2020-10-14 13:52:25+00:00</td>\n",
              "      <td>[]</td>\n",
              "    </tr>\n",
              "    <tr>\n",
              "      <th>3</th>\n",
              "      <td>jb3b4e</td>\n",
              "      <td>White Michigan man accused of attacking Black ...</td>\n",
              "      <td>https://www.nbcnews.com/news/us-news/white-mic...</td>\n",
              "      <td>A white man in Michigan faces a federal hate c...</td>\n",
              "      <td>2020-10-14 17:42:38+00:00</td>\n",
              "      <td>[(Michigan, GPE), (Michigan, GPE), (Mouat, GPE...</td>\n",
              "    </tr>\n",
              "    <tr>\n",
              "      <th>4</th>\n",
              "      <td>jazda1</td>\n",
              "      <td>Sheriff spoke in defense of accused domestic t...</td>\n",
              "      <td>https://www.cnn.com/2020/10/14/us/michigan-she...</td>\n",
              "      <td>Grand Rapids, Michigan (CNN) On May 18, the FB...</td>\n",
              "      <td>2020-10-14 00:00:00</td>\n",
              "      <td>[(Grand Rapids, GPE), (Michigan, GPE), (Michig...</td>\n",
              "    </tr>\n",
              "    <tr>\n",
              "      <th>...</th>\n",
              "      <td>...</td>\n",
              "      <td>...</td>\n",
              "      <td>...</td>\n",
              "      <td>...</td>\n",
              "      <td>...</td>\n",
              "      <td>...</td>\n",
              "    </tr>\n",
              "    <tr>\n",
              "      <th>57</th>\n",
              "      <td>ja41do</td>\n",
              "      <td>Johnson &amp; Johnson pauses Covid-19 vaccine tria...</td>\n",
              "      <td>https://www.cnn.com/2020/10/12/health/johnson-...</td>\n",
              "      <td>(CNN) Drugmaker Johnson &amp; Johnson said Monday ...</td>\n",
              "      <td>2020-10-12 00:00:00</td>\n",
              "      <td>[]</td>\n",
              "    </tr>\n",
              "    <tr>\n",
              "      <th>58</th>\n",
              "      <td>ja98vg</td>\n",
              "      <td>Roberta McCain, Mother of Sen. John McCain, Di...</td>\n",
              "      <td>https://www.nytimes.com/2020/10/12/us/roberta-...</td>\n",
              "      <td>Roberta McCain, whose son, Senator John McCain...</td>\n",
              "      <td>2020-10-12 00:00:00</td>\n",
              "      <td>[(Arizona, GPE), (Vietnam, GPE), (Washington, ...</td>\n",
              "    </tr>\n",
              "    <tr>\n",
              "      <th>59</th>\n",
              "      <td>jaywjo</td>\n",
              "      <td>Russian-US crew launches on fast track to the ...</td>\n",
              "      <td>https://apnews.com/article/moscow-kazakhstan-r...</td>\n",
              "      <td>In this image made from video footage released...</td>\n",
              "      <td>2020-10-14 05:52:34+00:00</td>\n",
              "      <td>[(Baikonur, GPE), (Kazakhstan, GPE), (Russia, ...</td>\n",
              "    </tr>\n",
              "    <tr>\n",
              "      <th>60</th>\n",
              "      <td>javxi0</td>\n",
              "      <td>Armenia Supporters Block Traffic in Various Lo...</td>\n",
              "      <td>https://www.nbclosangeles.com/news/local/appar...</td>\n",
              "      <td>Demonstrators in support of Armenia in its con...</td>\n",
              "      <td>2020-10-13 20:48:07+00:00</td>\n",
              "      <td>[(Armenia, GPE), (Azerbaijan, GPE), (Turkey, G...</td>\n",
              "    </tr>\n",
              "    <tr>\n",
              "      <th>61</th>\n",
              "      <td>jate7f</td>\n",
              "      <td>Former members allege gay conversion therapy, ...</td>\n",
              "      <td>https://ygknews.ca/2020/10/13/former-members-a...</td>\n",
              "      <td>Mayor Bryan Paterson, Third Day Worship Centre...</td>\n",
              "      <td>2020-10-13 00:00:00</td>\n",
              "      <td>[(Kingston, GPE), (Kingston, GPE), (City, GPE)...</td>\n",
              "    </tr>\n",
              "  </tbody>\n",
              "</table>\n",
              "<p>62 rows × 6 columns</p>\n",
              "</div>"
            ],
            "text/plain": [
              "        id  ...                                             tokens\n",
              "0   jb1llg  ...                                 [(Manhattan, GPE)]\n",
              "1   jayojh  ...  [(Mexico City, GPE), (Mexico, GPE), (Ocilla, G...\n",
              "2   jb0ssy  ...                                                 []\n",
              "3   jb3b4e  ...  [(Michigan, GPE), (Michigan, GPE), (Mouat, GPE...\n",
              "4   jazda1  ...  [(Grand Rapids, GPE), (Michigan, GPE), (Michig...\n",
              "..     ...  ...                                                ...\n",
              "57  ja41do  ...                                                 []\n",
              "58  ja98vg  ...  [(Arizona, GPE), (Vietnam, GPE), (Washington, ...\n",
              "59  jaywjo  ...  [(Baikonur, GPE), (Kazakhstan, GPE), (Russia, ...\n",
              "60  javxi0  ...  [(Armenia, GPE), (Azerbaijan, GPE), (Turkey, G...\n",
              "61  jate7f  ...  [(Kingston, GPE), (Kingston, GPE), (City, GPE)...\n",
              "\n",
              "[62 rows x 6 columns]"
            ]
          },
          "metadata": {
            "tags": []
          },
          "execution_count": 21
        }
      ]
    },
    {
      "cell_type": "code",
      "metadata": {
        "id": "LvimQj-e0CVC"
      },
      "source": [
        ""
      ],
      "execution_count": null,
      "outputs": []
    }
  ]
}