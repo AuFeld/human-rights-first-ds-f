{
  "nbformat": 4,
  "nbformat_minor": 0,
  "metadata": {
    "colab": {
      "name": "1-dc-data_exploration.ipynb",
      "provenance": [],
      "collapsed_sections": []
    },
    "kernelspec": {
      "name": "python3",
      "display_name": "Python 3"
    }
  },
  "cells": [
    {
      "cell_type": "markdown",
      "metadata": {
        "id": "FIB6vOGUgG3-"
      },
      "source": [
        "There are many different tools and kits used in this exploratory notebook. \n",
        "* Praw is a reddit API wrapper which is used to scrape subreddit posts and create dataframes from those posts."
      ]
    },
    {
      "cell_type": "code",
      "metadata": {
        "id": "SqwacFm3dPIZ"
      },
      "source": [
        "# using praw to scrape reddit\n",
        "import praw\n",
        "import pandas as pd"
      ],
      "execution_count": 16,
      "outputs": []
    },
    {
      "cell_type": "code",
      "metadata": {
        "id": "1B_Z9zRU9ndT"
      },
      "source": [
        "# here is a read only reddit instance. This can be used to scan and scrape\n",
        "reddit = praw.Reddit(client_id='D1NQHCUDKQg3TA',\n",
        "                     client_secret='GJn8WpYkFXi5CREeEdwKCiRZz4w',\n",
        "                     user_agent=\"windows:reddit:v1(david_cruz_0202)\",\n",
        "                     username=\"david_cruz_0202\")\n",
        "\n",
        "# The reddit API doesn't require developer credentials for a read only API\n",
        "# which is what we're doing. So there are no passwords being held.\n",
        "# will still need to store the client_id and client_secrets in .env"
      ],
      "execution_count": 7,
      "outputs": []
    },
    {
      "cell_type": "code",
      "metadata": {
        "id": "xxoXV4we-Xx_",
        "outputId": "51392c80-2cc6-44ce-f48f-ac6dde252cab",
        "colab": {
          "base_uri": "https://localhost:8080/",
          "height": 207
        }
      },
      "source": [
        "# obtain 100 submissions from the policebrutality channel\n",
        "\n",
        "data_raw = []\n",
        "\n",
        "for submission in reddit.subreddit(\"policebrutality\").new(limit=10):\n",
        "  print(submission.title)\n",
        "  data_raw.append([submission.id, submission.title, submission.selftext, submission.url])\n",
        "  \n",
        "\n",
        "# The scanner works!! This can be used to scan the public reddit news source.\n",
        "# We can pick and choose subreddits, and much more."
      ],
      "execution_count": 13,
      "outputs": [
        {
          "output_type": "stream",
          "text": [
            "Jonathan Price shooting: Texas officer charged with murder after killing 31-year-old Black man who tried to intervene in a dispute, attorney says\n",
            "Wolfe City officer charged with murder in fatal shooting of Jonathan Price\n",
            "Is there a sub called policestupidity?\n",
            "Two cops assaulted a man in his hospital bed\n",
            "Arizona - K9 deployment on compliance\n",
            "Four cops lose their job after kicking and punching an innocent car accident victim\n",
            "leaked footage of george floyd killing\n",
            "Chilean Police throws boy, 16, off a bridge during protests.\n",
            "Houston protesters demand accountability after recent spate of racist police killings\n",
            "Among Us: We Are Watching\n"
          ],
          "name": "stdout"
        }
      ]
    },
    {
      "cell_type": "code",
      "metadata": {
        "id": "XrHTOmtP-qYZ",
        "outputId": "5136ae51-a71c-4ea1-c5b8-ffe17bdb3c47",
        "colab": {
          "base_uri": "https://localhost:8080/",
          "height": 105
        }
      },
      "source": [
        "data_raw[0]"
      ],
      "execution_count": 14,
      "outputs": [
        {
          "output_type": "execute_result",
          "data": {
            "text/plain": [
              "['j637pc',\n",
              " 'Jonathan Price shooting: Texas officer charged with murder after killing 31-year-old Black man who tried to intervene in a dispute, attorney says',\n",
              " '',\n",
              " 'https://www.msn.com/en-us/news/us/jonathan-price-shooting-texas-officer-arrested-after-killing-31-year-old-black-man-who-tried-to-intervene-in-a-dispute-attorney-says/ar-BB19Kkc7?ocid=ob-fb-enus-580']"
            ]
          },
          "metadata": {
            "tags": []
          },
          "execution_count": 14
        }
      ]
    },
    {
      "cell_type": "code",
      "metadata": {
        "id": "oGz-HNuodLlg"
      },
      "source": [
        "col_names = ['id', 'title', 'text', 'news_url']\n",
        "\n",
        "# This data frame holds stories from the police brutality subreddit.\n",
        "# It can be created with many more stories, and can be filtered by newest posts\n",
        "# or by the hottest posts.\n",
        "# I recommend newest posts, because the hottest posts doesn't update as frequent\n",
        "df = pd.DataFrame(data_raw, columns=col_names)"
      ],
      "execution_count": 17,
      "outputs": []
    },
    {
      "cell_type": "code",
      "metadata": {
        "id": "guZs1wazeWM2",
        "outputId": "69bc196b-52b4-4da1-bb92-d67d00ca988f",
        "colab": {
          "base_uri": "https://localhost:8080/",
          "height": 204
        }
      },
      "source": [
        "df.head()"
      ],
      "execution_count": 19,
      "outputs": [
        {
          "output_type": "execute_result",
          "data": {
            "text/html": [
              "<div>\n",
              "<style scoped>\n",
              "    .dataframe tbody tr th:only-of-type {\n",
              "        vertical-align: middle;\n",
              "    }\n",
              "\n",
              "    .dataframe tbody tr th {\n",
              "        vertical-align: top;\n",
              "    }\n",
              "\n",
              "    .dataframe thead th {\n",
              "        text-align: right;\n",
              "    }\n",
              "</style>\n",
              "<table border=\"1\" class=\"dataframe\">\n",
              "  <thead>\n",
              "    <tr style=\"text-align: right;\">\n",
              "      <th></th>\n",
              "      <th>id</th>\n",
              "      <th>title</th>\n",
              "      <th>text</th>\n",
              "      <th>news_url</th>\n",
              "    </tr>\n",
              "  </thead>\n",
              "  <tbody>\n",
              "    <tr>\n",
              "      <th>0</th>\n",
              "      <td>j637pc</td>\n",
              "      <td>Jonathan Price shooting: Texas officer charged...</td>\n",
              "      <td></td>\n",
              "      <td>https://www.msn.com/en-us/news/us/jonathan-pri...</td>\n",
              "    </tr>\n",
              "    <tr>\n",
              "      <th>1</th>\n",
              "      <td>j61ffw</td>\n",
              "      <td>Wolfe City officer charged with murder in fata...</td>\n",
              "      <td></td>\n",
              "      <td>https://www.kltv.com/2020/10/05/wolfe-city-off...</td>\n",
              "    </tr>\n",
              "    <tr>\n",
              "      <th>2</th>\n",
              "      <td>j60tnv</td>\n",
              "      <td>Is there a sub called policestupidity?</td>\n",
              "      <td></td>\n",
              "      <td>https://v.redd.it/k0g2eotcu7r51</td>\n",
              "    </tr>\n",
              "    <tr>\n",
              "      <th>3</th>\n",
              "      <td>j5duy9</td>\n",
              "      <td>Two cops assaulted a man in his hospital bed</td>\n",
              "      <td></td>\n",
              "      <td>https://v.redd.it/4hqg23q1p7r51</td>\n",
              "    </tr>\n",
              "    <tr>\n",
              "      <th>4</th>\n",
              "      <td>j5dnot</td>\n",
              "      <td>Arizona - K9 deployment on compliance</td>\n",
              "      <td></td>\n",
              "      <td>https://v.redd.it/tga48mm0m7r51</td>\n",
              "    </tr>\n",
              "  </tbody>\n",
              "</table>\n",
              "</div>"
            ],
            "text/plain": [
              "       id  ...                                           news_url\n",
              "0  j637pc  ...  https://www.msn.com/en-us/news/us/jonathan-pri...\n",
              "1  j61ffw  ...  https://www.kltv.com/2020/10/05/wolfe-city-off...\n",
              "2  j60tnv  ...                    https://v.redd.it/k0g2eotcu7r51\n",
              "3  j5duy9  ...                    https://v.redd.it/4hqg23q1p7r51\n",
              "4  j5dnot  ...                    https://v.redd.it/tga48mm0m7r51\n",
              "\n",
              "[5 rows x 4 columns]"
            ]
          },
          "metadata": {
            "tags": []
          },
          "execution_count": 19
        }
      ]
    },
    {
      "cell_type": "code",
      "metadata": {
        "id": "MPbouQuceb9f"
      },
      "source": [
        ""
      ],
      "execution_count": null,
      "outputs": []
    }
  ]
}